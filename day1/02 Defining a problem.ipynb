{
 "cells": [
  {
   "cell_type": "markdown",
   "metadata": {},
   "source": [
    "# The `Problem` class\n",
    "\n",
    "An analytical problem is a problem where the mathematical formulation of the various objectives is known, as opposed to a data-driven problem, where one may need to train surrogate models to proceed with optimization.\n",
    "\n",
    "The `Problem` class is the way to define optimization problems in the DESDEO framework. Once defined, the same `Problem` class instance can be used to solve optimization problems using various EAs from the `desdeo-emo` package, or the more traditional methods from the `desdeo-mcdm` package.\n",
    "\n",
    "This notebook will help you understand how to instantiate a analytical problem object from scratch. The notebook will also go over other abstractions, namely classes for defining the decision variables, objectives, and the constraints, and will go over the functionalities provided by the abstractions."
   ]
  },
  {
   "cell_type": "markdown",
   "metadata": {},
   "source": [
    "## Multiobjective Optimization Problem\n",
    "\n",
    "Let's say that we have the following minimization problem:\n",
    "\n",
    "\\begin{equation}\n",
    "\\begin{aligned}\n",
    "& \\underset{\\mathbf x}{\\text{min}}\n",
    "& & y_1, y_2\\\\\n",
    "& & & y_1 = x_1 + x_2 \\\\\n",
    "& & & y_2 = x_1 / x_2 \\\\\n",
    "& \\text{s.t.} & &  2 \\leq x_1 \\leq 5 \\\\\n",
    "& & &  1 \\leq  x_2 \\leq 10 \\\\\n",
    "& & &  x_1 + x_2 \\leq 10 \\\\\n",
    "& & &  \\mathbf{x} \\; \\in S, \\\\\n",
    "\\end{aligned}\n",
    "\\end{equation}\n"
   ]
  },
  {
   "cell_type": "markdown",
   "metadata": {},
   "source": [
    "## Variables\n",
    "\n",
    "Before instantiating the problem instance, we have to create object to define each of the variables, objectives, and constraints.\n",
    "\n",
    "The variable objects can be created with the `desdeo_problem.Variable.Variable` class.\n",
    "This object stores the information related to the variable (such as, lower bound, upper bound, and an initial value).\n",
    "This information is used by the methods whenever required (such as when setting box constraints on searching algorithms or recombination operators) and for displaying results to the decision maker.\n",
    "Use this class to create variable objects, one variable at a time.\n",
    "\n",
    "To define multiple `Variable` instances easily, use the `desdeo_problem.Variable.variable_builder` function.\n",
    "The function takes in all the necessary information for all the variables at once, and returns a List of `Variable` instances, one for each decision variable.\n",
    "\n",
    "Use the `help()` function to know more about any function/class in the desdeo framework."
   ]
  },
  {
   "cell_type": "code",
   "execution_count": 1,
   "metadata": {
    "tags": []
   },
   "outputs": [
    {
     "name": "stdout",
     "output_type": "stream",
     "text": [
      "Help on function variable_builder in module desdeo_problem.problem.Variable:\n",
      "\n",
      "variable_builder(names: List[str], initial_values: Union[List[float], numpy.ndarray], lower_bounds: Union[List[float], numpy.ndarray] = None, upper_bounds: Union[List[float], numpy.ndarray] = None) -> List[desdeo_problem.problem.Variable.Variable]\n",
      "    Automatically build all variable objects.\n",
      "    \n",
      "    Arguments:\n",
      "        names (List[str]): Names of the variables\n",
      "        initial_values (np.ndarray): Initial values taken by the variables.\n",
      "        lower_bounds (Union[List[float], np.ndarray], optional): Lower bounds of the\n",
      "            variables. If None, it defaults to negative infinity. Defaults to None.\n",
      "        upper_bounds (Union[List[float], np.ndarray], optional): Upper bounds of the\n",
      "            variables. If None, it defaults to positive infinity. Defaults to None.\n",
      "    \n",
      "    Raises:\n",
      "        VariableError: Lengths of the input arrays are different.\n",
      "    \n",
      "    Returns:\n",
      "        List[Variable]: List of variable objects\n",
      "\n"
     ]
    }
   ],
   "source": [
    "from desdeo_problem import variable_builder\n",
    "\n",
    "help(variable_builder)"
   ]
  },
  {
   "cell_type": "markdown",
   "metadata": {},
   "source": [
    "Let's build the `Variable` objects"
   ]
  },
  {
   "cell_type": "code",
   "execution_count": 2,
   "metadata": {},
   "outputs": [],
   "source": [
    "var_names = [\"a\", \"b\"]  #  Make sure that the variable names are meaningful to you.\n",
    "\n",
    "initial_values = [3, 3]  #  Some (but not all) methods require intial values for the decision variables.\n",
    "lower_bounds = [2, 1]  #  The lower and upper bounds (also known as box constraints) can be handeled by the Variable object.\n",
    "upper_bounds = [5, 10]\n",
    "\n",
    "variables = variable_builder(var_names, initial_values, lower_bounds, upper_bounds)"
   ]
  },
  {
   "cell_type": "code",
   "execution_count": 3,
   "metadata": {
    "tags": []
   },
   "outputs": [
    {
     "name": "stdout",
     "output_type": "stream",
     "text": [
      "Type of \"variables\":  <class 'list'>\n",
      "Length of \"variables\":  2\n",
      "Type of the contents of \"variables\":  <class 'desdeo_problem.problem.Variable.Variable'>\n"
     ]
    }
   ],
   "source": [
    "print(\"Type of \\\"variables\\\": \", type(variables))\n",
    "print(\"Length of \\\"variables\\\": \", len(variables))\n",
    "print(\"Type of the contents of \\\"variables\\\": \", type(variables[0]))"
   ]
  },
  {
   "cell_type": "markdown",
   "metadata": {},
   "source": [
    "## Objectives\n",
    "\n",
    "Objectives are defined using tha various objective classes found within the module `desdeo_problem.Objective`. To define an objective class instance, one needs to pass the following:\n",
    "\n",
    "1. Objective name/s (Required): Name of the objective (or list of names, for multiple objective). This information will be used when displaying results to the user. Hence, these names must be understandable to the user.\n",
    "\n",
    "2. Evaluator (Required for analytical/simulation based objectives): An evaluator is a python `Callable` which takes in the decision variables as it's input and returns the corresponding objective values. This python function can be used to connect to simulators outside the DESDEO framework.\n",
    "\n",
    "3. Lower bound (Not required): A lower bound for the objective. This information can be used to generate approximate ideal/nadir point during optimization.\n",
    "\n",
    "4. Upper bound (Not required): An upper bound for the objective. This information can be used to generate approximate ideal/nadir point during optimization.\n",
    "\n",
    "5. maximize (Not required): This is a boolean value that determines whether an objective is to be maximized or minimized. This is `False` by default (i.e. the objective is minimized).\n",
    "\n",
    "The DESDEO framework has the following classification for objectives, based on the kind of evaluater to be used:\n",
    "\n",
    "1. \"Scalar\" objectives: If an evaluator/simulator evaluates only one objective, the objective is defined as a Scalar objective. Use the `desdeo_problem.Objective._ScalarObjective` class to handle such cases.\n",
    "\n",
    "2. \"Vector\" objectives: If an evaluator evaluates and returns more than one objective at once, the set of objectives is defined as Vector objective. Use the `desdeo_problem.Objective.VectorObjective` class to handle such cases.\n",
    "\n",
    "**Note**:`_ScalarObjective` will be depreciated in the future, and all of it's functionality will be handled by the `VectorObjective` class, which will be renamed to, simply, `Objective`.\n",
    "\n",
    "To define a problem instance, the objectives may be defined as all Scalar objectives, all Vector objectives, or a mix of both, depending upon the case.\n",
    "\n",
    "Let's see how to define and use both kinds of Objective classes:"
   ]
  },
  {
   "cell_type": "code",
   "execution_count": 4,
   "metadata": {},
   "outputs": [],
   "source": [
    "from desdeo_problem import ScalarObjective, VectorObjective\n",
    "\n",
    "import numpy as np"
   ]
  },
  {
   "cell_type": "markdown",
   "metadata": {},
   "source": [
    "Define the evaluators for the objectives. These evaluators should be python functions that take in the decision variable values and give out the objective value/s. The arguments of these evaluators are **2-D Numpy arrays**."
   ]
  },
  {
   "cell_type": "code",
   "execution_count": 5,
   "metadata": {},
   "outputs": [],
   "source": [
    "# Sometimes individual objectives can be calculated independently.\n",
    "# For example, below we define the two objectives in two different Python functions\n",
    "\n",
    "def obj1(x):\n",
    "    return x[:, 0] + x[:, 1]\n",
    "\n",
    "def obj2(x):\n",
    "    return x[:, 0] / x[:, 1]"
   ]
  },
  {
   "cell_type": "code",
   "execution_count": 6,
   "metadata": {},
   "outputs": [],
   "source": [
    "# Sometimes two or more objectives are returned by the same method (for example, a simulator), and cannot be calculated independently.\n",
    "\n",
    "def obj1_2(x):\n",
    "    y1 = x[:, 0] + x[:, 1]\n",
    "    y2 = x[:, 0] / x[:, 1]\n",
    "    return (y1, y2)"
   ]
  },
  {
   "cell_type": "markdown",
   "metadata": {},
   "source": [
    "Define the objectives. For this, you need the names of the objectives, and the evaluators defined above. If an evaluator returns multiple objective values, use the `VectorObjective` class to define those objectives. If an evaluator returns objective values for only one objective, either `VectorObjective` or `ScalarObjective` can be used.\n",
    "\n",
    "If using `VectorObjective`, names should be provided in a list.\n",
    "\n",
    "Additionaly, bounds of the objective values can also be provided."
   ]
  },
  {
   "cell_type": "code",
   "execution_count": 7,
   "metadata": {},
   "outputs": [],
   "source": [
    "obj_names = [\"y1\", \"y2\"]\n",
    "f1 = ScalarObjective(obj_names[0], obj1)\n",
    "f2 = ScalarObjective(obj_names[1], obj2)\n",
    "\n",
    "# Or\n",
    "\n",
    "f1_2 = VectorObjective(obj_names, obj1_2)"
   ]
  },
  {
   "cell_type": "markdown",
   "metadata": {},
   "source": [
    "## Constraints\n",
    "\n",
    "Constraint may depend on the decision variable values, as well as the objective function.\n",
    "\n",
    "The constraint should be defined so that when evaluated it should return a positive value if the constraint is adhered to, and a negative value if the constraint is breached."
   ]
  },
  {
   "cell_type": "code",
   "execution_count": 8,
   "metadata": {},
   "outputs": [],
   "source": [
    "from desdeo_problem import ScalarConstraint\n",
    "\n",
    "const_func = lambda x, y: 10 - (x[:, 0] + x[:, 1])\n",
    "\n",
    "# Args: name, number of variables, number of objectives, callable\n",
    "\n",
    "cons1 = ScalarConstraint(\"c_1\", 2, 2, const_func)"
   ]
  },
  {
   "cell_type": "code",
   "execution_count": 9,
   "metadata": {},
   "outputs": [],
   "source": [
    "# You can also define const_func as:\n",
    "def const_func(x, y):\n",
    "    return 10 - (x[:, 0] + x[:, 1])\n",
    "\n",
    "# Note that the function takes a second input (the objective values) even if they are not used in the constraint."
   ]
  },
  {
   "cell_type": "markdown",
   "metadata": {},
   "source": [
    "## Creating the Problem object\n",
    "\n",
    "Now that we have all the building blocks, we can create the problem object, using the `desdeo_problem.Problem.MOProblem` class.\n",
    "\n",
    "Provide objectives, variables and constraints in lists."
   ]
  },
  {
   "cell_type": "code",
   "execution_count": 10,
   "metadata": {},
   "outputs": [],
   "source": [
    "from desdeo_problem import MOProblem\n",
    "\n",
    "prob = MOProblem(objectives=[f1, f2], variables=variables, constraints=[cons1])"
   ]
  },
  {
   "cell_type": "markdown",
   "metadata": {},
   "source": [
    "The problem class provides abstractions such as the `evaluate` method. The method evaluates all the objective and constraint values for a given set of decision variables (in a numpy array), using the evaluators.\n",
    "\n",
    "The abstraction also provides methods such as `train` and `surrogate_evaluate` for data driven problem. These will be tackled in the next notebook.\n",
    "\n",
    "The output is a NamedTuple object. It contains the following elements:\n",
    "\n",
    "1. `objectives`: Contains the objective values\n",
    "\n",
    "2. `fitness`: Contains the fitness values. Fitness is either equal to the objective value, or equal to (-1 * objective value), depending upon whether the objective is to be minimized or maximized respectively. The optimization methods in the DESDEO framework internally use this value, rather than the values contained in output.objectives\n",
    "\n",
    "3. `constraints`: Contains constraint violation values.\n",
    "4. `uncertainity`: Contains the quantification of \"uncertainity\" of the evaluation\n",
    "\n",
    "All of these values can be accessed in different ways, as shown below.\n",
    "\n",
    "**Note**: Input as list of lists is not supported"
   ]
  },
  {
   "cell_type": "code",
   "execution_count": 11,
   "metadata": {},
   "outputs": [],
   "source": [
    "data = np.asarray([[2, 2], [5, 5]])\n",
    "res= prob.evaluate(data)"
   ]
  },
  {
   "cell_type": "code",
   "execution_count": 12,
   "metadata": {
    "tags": []
   },
   "outputs": [
    {
     "name": "stdout",
     "output_type": "stream",
     "text": [
      "Evaluation Results Object \n",
      "Objective values are: \n",
      "[[ 4.  1.]\n",
      " [10.  1.]]\n",
      "Constraint violation values are: \n",
      "[[6.]\n",
      " [0.]]\n",
      "Fitness values are: \n",
      "[[ 4.  1.]\n",
      " [10.  1.]]\n",
      "Uncertainity values are: \n",
      "[[nan nan]\n",
      " [nan nan]]\n",
      "\n"
     ]
    }
   ],
   "source": [
    "print(res)"
   ]
  },
  {
   "cell_type": "code",
   "execution_count": 13,
   "metadata": {
    "tags": []
   },
   "outputs": [
    {
     "name": "stdout",
     "output_type": "stream",
     "text": [
      "The objective values for the given set of decision variables are: \n",
      " [[ 4.  1.]\n",
      " [10.  1.]]\n",
      "The constraint violation for the given set of decision variables are:\n",
      " [[6.]\n",
      " [0.]]\n"
     ]
    }
   ],
   "source": [
    "print(\"The objective values for the given set of decision variables are: \\n\", res.objectives)\n",
    "print(\"The constraint violation for the given set of decision variables are:\\n\", res.constraints)"
   ]
  },
  {
   "cell_type": "code",
   "execution_count": 14,
   "metadata": {},
   "outputs": [
    {
     "data": {
      "text/plain": [
       "EvaluationResults(objectives=array([[ 4.,  1.],\n",
       "       [10.,  1.]]), fitness=array([[ 4.,  1.],\n",
       "       [10.,  1.]]), constraints=array([[6.],\n",
       "       [0.]]), uncertainity=array([[nan, nan],\n",
       "       [nan, nan]]))"
      ]
     },
     "execution_count": 14,
     "metadata": {},
     "output_type": "execute_result"
    }
   ],
   "source": [
    "res"
   ]
  },
  {
   "cell_type": "markdown",
   "metadata": {},
   "source": [
    "## Evaluating and visualizing some random inputs"
   ]
  },
  {
   "cell_type": "code",
   "execution_count": 15,
   "metadata": {},
   "outputs": [],
   "source": [
    "import numpy as np"
   ]
  },
  {
   "cell_type": "code",
   "execution_count": 16,
   "metadata": {},
   "outputs": [],
   "source": [
    "random_inputs = np.random.rand(100,2)\n",
    "random_inputs = random_inputs * (\n",
    "    np.array(upper_bounds) - np.array(lower_bounds)\n",
    ") + lower_bounds"
   ]
  },
  {
   "cell_type": "code",
   "execution_count": 17,
   "metadata": {},
   "outputs": [],
   "source": [
    "random_results = prob.evaluate(random_inputs)"
   ]
  },
  {
   "cell_type": "code",
   "execution_count": 18,
   "metadata": {},
   "outputs": [],
   "source": [
    "import matplotlib.pyplot as plt"
   ]
  },
  {
   "cell_type": "code",
   "execution_count": 19,
   "metadata": {},
   "outputs": [
    {
     "data": {
      "text/plain": [
       "<matplotlib.collections.PathCollection at 0x2e90b11d430>"
      ]
     },
     "execution_count": 19,
     "metadata": {},
     "output_type": "execute_result"
    },
    {
     "data": {
      "image/png": "[encoded data removed]",
      "text/plain": [
       "<Figure size 432x288 with 1 Axes>"
      ]
     },
     "metadata": {
      "needs_background": "light"
     },
     "output_type": "display_data"
    }
   ],
   "source": [
    "plt.scatter(\n",
    "    x=random_results.objectives[:,0],\n",
    "    y=random_results.objectives[:,1]\n",
    ")"
   ]
  },
  {
   "cell_type": "code",
   "execution_count": 20,
   "metadata": {},
   "outputs": [],
   "source": [
    "# Finding non-dominated solutions\n",
    "\n",
    "from desdeo_tools.utilities import non_dominated"
   ]
  },
  {
   "cell_type": "code",
   "execution_count": 21,
   "metadata": {},
   "outputs": [],
   "source": [
    "non_dom_indices = non_dominated(random_results.objectives)"
   ]
  },
  {
   "cell_type": "code",
   "execution_count": 22,
   "metadata": {},
   "outputs": [
    {
     "data": {
      "text/plain": [
       "<matplotlib.collections.PathCollection at 0x2e90ed6a850>"
      ]
     },
     "execution_count": 22,
     "metadata": {},
     "output_type": "execute_result"
    },
    {
     "data": {
      "image/png": "[encoded data removed]",
      "text/plain": [
       "<Figure size 432x288 with 1 Axes>"
      ]
     },
     "metadata": {
      "needs_background": "light"
     },
     "output_type": "display_data"
    }
   ],
   "source": [
    "plt.scatter(\n",
    "    x=random_results.objectives[:,0],\n",
    "    y=random_results.objectives[:,1],\n",
    "    c = non_dom_indices.astype(int)\n",
    ")"
   ]
  },
  {
   "cell_type": "markdown",
   "metadata": {},
   "source": [
    "## Saving results"
   ]
  },
  {
   "cell_type": "code",
   "execution_count": 23,
   "metadata": {},
   "outputs": [
    {
     "data": {
      "text/html": [
       "<div>\n",
       "<style scoped>\n",
       "    .dataframe tbody tr th:only-of-type {\n",
       "        vertical-align: middle;\n",
       "    }\n",
       "\n",
       "    .dataframe tbody tr th {\n",
       "        vertical-align: top;\n",
       "    }\n",
       "\n",
       "    .dataframe thead th {\n",
       "        text-align: right;\n",
       "    }\n",
       "</style>\n",
       "<table border=\"1\" class=\"dataframe\">\n",
       "  <thead>\n",
       "    <tr style=\"text-align: right;\">\n",
       "      <th></th>\n",
       "      <th>a</th>\n",
       "      <th>b</th>\n",
       "      <th>y1</th>\n",
       "      <th>y2</th>\n",
       "      <th>non_dominated</th>\n",
       "    </tr>\n",
       "  </thead>\n",
       "  <tbody>\n",
       "    <tr>\n",
       "      <th>0</th>\n",
       "      <td>4.409227</td>\n",
       "      <td>1.963184</td>\n",
       "      <td>6.372411</td>\n",
       "      <td>2.245957</td>\n",
       "      <td>0.0</td>\n",
       "    </tr>\n",
       "    <tr>\n",
       "      <th>1</th>\n",
       "      <td>2.796312</td>\n",
       "      <td>3.714097</td>\n",
       "      <td>6.510409</td>\n",
       "      <td>0.752891</td>\n",
       "      <td>0.0</td>\n",
       "    </tr>\n",
       "    <tr>\n",
       "      <th>2</th>\n",
       "      <td>4.351392</td>\n",
       "      <td>1.225601</td>\n",
       "      <td>5.576993</td>\n",
       "      <td>3.550414</td>\n",
       "      <td>0.0</td>\n",
       "    </tr>\n",
       "    <tr>\n",
       "      <th>3</th>\n",
       "      <td>4.898645</td>\n",
       "      <td>4.050301</td>\n",
       "      <td>8.948945</td>\n",
       "      <td>1.209452</td>\n",
       "      <td>0.0</td>\n",
       "    </tr>\n",
       "    <tr>\n",
       "      <th>4</th>\n",
       "      <td>2.950384</td>\n",
       "      <td>6.812177</td>\n",
       "      <td>9.762561</td>\n",
       "      <td>0.433104</td>\n",
       "      <td>0.0</td>\n",
       "    </tr>\n",
       "    <tr>\n",
       "      <th>...</th>\n",
       "      <td>...</td>\n",
       "      <td>...</td>\n",
       "      <td>...</td>\n",
       "      <td>...</td>\n",
       "      <td>...</td>\n",
       "    </tr>\n",
       "    <tr>\n",
       "      <th>95</th>\n",
       "      <td>3.328477</td>\n",
       "      <td>4.628283</td>\n",
       "      <td>7.956760</td>\n",
       "      <td>0.719160</td>\n",
       "      <td>0.0</td>\n",
       "    </tr>\n",
       "    <tr>\n",
       "      <th>96</th>\n",
       "      <td>3.433008</td>\n",
       "      <td>2.517666</td>\n",
       "      <td>5.950675</td>\n",
       "      <td>1.363568</td>\n",
       "      <td>0.0</td>\n",
       "    </tr>\n",
       "    <tr>\n",
       "      <th>97</th>\n",
       "      <td>3.559399</td>\n",
       "      <td>7.556243</td>\n",
       "      <td>11.115643</td>\n",
       "      <td>0.471054</td>\n",
       "      <td>0.0</td>\n",
       "    </tr>\n",
       "    <tr>\n",
       "      <th>98</th>\n",
       "      <td>2.230882</td>\n",
       "      <td>4.369755</td>\n",
       "      <td>6.600636</td>\n",
       "      <td>0.510528</td>\n",
       "      <td>0.0</td>\n",
       "    </tr>\n",
       "    <tr>\n",
       "      <th>99</th>\n",
       "      <td>4.109654</td>\n",
       "      <td>2.244973</td>\n",
       "      <td>6.354627</td>\n",
       "      <td>1.830603</td>\n",
       "      <td>0.0</td>\n",
       "    </tr>\n",
       "  </tbody>\n",
       "</table>\n",
       "<p>100 rows × 5 columns</p>\n",
       "</div>"
      ],
      "text/plain": [
       "           a         b         y1        y2  non_dominated\n",
       "0   4.409227  1.963184   6.372411  2.245957            0.0\n",
       "1   2.796312  3.714097   6.510409  0.752891            0.0\n",
       "2   4.351392  1.225601   5.576993  3.550414            0.0\n",
       "3   4.898645  4.050301   8.948945  1.209452            0.0\n",
       "4   2.950384  6.812177   9.762561  0.433104            0.0\n",
       "..       ...       ...        ...       ...            ...\n",
       "95  3.328477  4.628283   7.956760  0.719160            0.0\n",
       "96  3.433008  2.517666   5.950675  1.363568            0.0\n",
       "97  3.559399  7.556243  11.115643  0.471054            0.0\n",
       "98  2.230882  4.369755   6.600636  0.510528            0.0\n",
       "99  4.109654  2.244973   6.354627  1.830603            0.0\n",
       "\n",
       "[100 rows x 5 columns]"
      ]
     },
     "execution_count": 23,
     "metadata": {},
     "output_type": "execute_result"
    }
   ],
   "source": [
    "\n",
    "\n",
    "import pandas as pd\n",
    "\n",
    "results = pd.DataFrame(\n",
    "    np.hstack((random_inputs, random_results.objectives, non_dom_indices.reshape(-1,1))),\n",
    "    columns = [*var_names, *obj_names, \"non_dominated\"])\n",
    "\n",
    "results"
   ]
  },
  {
   "cell_type": "code",
   "execution_count": 24,
   "metadata": {},
   "outputs": [],
   "source": [
    "results.to_csv(\"results.csv\", index=False)"
   ]
  },
  {
   "cell_type": "code",
   "execution_count": null,
   "metadata": {},
   "outputs": [],
   "source": []
  }
 ],
 "metadata": {
  "kernelspec": {
   "display_name": "jss31com1",
   "language": "python",
   "name": "jss31com1"
  },
  "language_info": {
   "codemirror_mode": {
    "name": "ipython",
    "version": 3
   },
   "file_extension": ".py",
   "mimetype": "text/x-python",
   "name": "python",
   "nbconvert_exporter": "python",
   "pygments_lexer": "ipython3",
   "version": "3.9.10"
  }
 },
 "nbformat": 4,
 "nbformat_minor": 4
}
