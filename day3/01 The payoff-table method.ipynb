{
 "cells": [
  {
   "cell_type": "markdown",
   "id": "169bfe5c-4945-4d42-840d-afd45871ff8b",
   "metadata": {},
   "source": [
    "# Assignment 1: The payoff-table method\n",
    "\n",
    "Start by defining a multiobjective optimization problem as an instance of the `MOProblem` class.\n",
    "You can use a problem you have defined previously, some of the test problems available, or\n",
    "you can come up with your own problem.\n",
    "\n",
    "Once you have defined your problem, use the payoff-table method defined in `desdeo-tools` to\n",
    "compute the ideal, and approximate the nadir point, of the problem you have defined.\n",
    "\n",
    "Report the value of the ideal point and nadir points (in the objective space). Give also a couple of\n",
    "comments on the quality of the points. Do they make sense?\n",
    "\n",
    "## Hints\n",
    "\n",
    "- Start by defining a multiobjective optimization problem as an instance of the `MOProblem` class. You can find some\n",
    "  pre-defined problems in the `desdeo_problem.testproblems` module [here](https://github.com/industrial-optimization-group/desdeo-problem/tree/master/desdeo_problem/testproblems)\n",
    "- The payoff-table method is located in the module `desdeo_mcdm.utilities` and is documented [here](https://desdeo-mcdm.readthedocs.io/en/latest/autoapi/desdeo_mcdm/utilities/solvers/index.html#desdeo_mcdm.utilities.solvers.payoff_table_method)."
   ]
  },
  {
   "cell_type": "code",
   "execution_count": null,
   "id": "d1d8b92e-e62c-4239-8080-138ec892b65f",
   "metadata": {},
   "outputs": [],
   "source": []
  }
 ],
 "metadata": {
  "kernelspec": {
   "display_name": "jss",
   "language": "python",
   "name": "jss"
  },
  "language_info": {
   "codemirror_mode": {
    "name": "ipython",
    "version": 3
   },
   "file_extension": ".py",
   "mimetype": "text/x-python",
   "name": "python",
   "nbconvert_exporter": "python",
   "pygments_lexer": "ipython3",
   "version": "3.8.12"
  }
 },
 "nbformat": 4,
 "nbformat_minor": 5
}
