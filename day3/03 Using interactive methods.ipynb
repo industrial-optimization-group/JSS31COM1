{
 "cells": [
  {
   "cell_type": "markdown",
   "id": "d8e7b760-61be-4326-aa9a-89ee30ef6b63",
   "metadata": {},
   "source": [
    "# Assignment 3: Using interactive methods\n",
    "\n",
    "Solve a previusly defined multiobjective optimization problem utilizing an\n",
    "interactive method of your choice defined in `desdeo-mcdm`. Some interactive\n",
    "methods will require a representation of the Pareto optimal front, you can\n",
    "ignore these methods in your choice.\n",
    "\n",
    "Report which methods you used, what solution(s) you got, and your thoughs on the method.\n",
    "\n",
    "## Hints\n",
    "- Using the interactive methods found in the `desdeo_mcdm.interactive` module follows a standard pattern:\n",
    "    1. The method is first initialized by instantiating an instance of the method's class.\n",
    "    2. Then, the `start`-method of the class' instance is called. This will return the first _request_ object.\n",
    "    3. The request object has both a `content` and `response` dictionary as an attribute. \n",
    "    4. The `contents` dictionary has an entry `message` that will contain instructions on how to proceed.\n",
    "    5. According to the instructions, new dictionary entries should be added to the `response` dictionary in the original _request_ object.\n",
    "    6. Finally, the `iterate` method of the interactive method should be called with the _request_ object as the only argument (with the `response` dictionary filled with relevant entries).\n",
    "    7. The `iterate` method will return a new _request_ object. This process is continued from step 3 and iterated until a satisfying solution is reached.\n",
    "- This above process is described in more detail in the DESDEO article, Section III-B, found [here](https://ieeexplore.ieee.org/abstract/document/9591595).\n",
    "- The above article contains other examples in Section IV that can be useful when tackling this assignment.\n",
    "- Some interactive methods will require a representation of the Pareto optimal front to function. You do not need to use these methods. Methods you can use are: NIMBUS, NAUTILUS, NAUTILUS2, the Reference Point Method, and Pareto Navigator.\n",
    "- __NOTE__: some interactive methods, like NIMBUS, can return two responses when their `iterate` method is called. Only the first response is relevant in these cases and the second response can be ignored."
   ]
  },
  {
   "cell_type": "code",
   "execution_count": null,
   "id": "391ca688-4ae7-4c28-a86f-9931de39b205",
   "metadata": {},
   "outputs": [],
   "source": []
  }
 ],
 "metadata": {
  "kernelspec": {
   "display_name": "jss",
   "language": "python",
   "name": "jss"
  },
  "language_info": {
   "codemirror_mode": {
    "name": "ipython",
    "version": 3
   },
   "file_extension": ".py",
   "mimetype": "text/x-python",
   "name": "python",
   "nbconvert_exporter": "python",
   "pygments_lexer": "ipython3",
   "version": "3.8.12"
  }
 },
 "nbformat": 4,
 "nbformat_minor": 5
}
