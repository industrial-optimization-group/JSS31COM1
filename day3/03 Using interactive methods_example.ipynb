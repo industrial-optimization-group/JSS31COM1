{
 "cells": [
  {
   "cell_type": "markdown",
   "id": "d8e7b760-61be-4326-aa9a-89ee30ef6b63",
   "metadata": {},
   "source": [
    "# Assignment 3: Using interactive methods\n",
    "\n",
    "Solve a previusly defined multiobjective optimization problem utilizing an\n",
    "interactive method of your choice defined in `desdeo-mcdm`. Some interactive\n",
    "methods will require a representation of the Pareto optimal front, you can\n",
    "ignore these methods in your choice.\n",
    "\n",
    "Report which methods you used, what solution(s) you got, and your thoughs on the method.\n",
    "\n",
    "## Hints\n",
    "- Using the interactive methods found in the `desdeo_mcdm.interactive` module follows a standard pattern:\n",
    "    1. The method is first initialized by instantiating an instance of the method's class.\n",
    "    2. Then, the `start`-method of the class' instance is called. This will return the first _request_ object.\n",
    "    3. The request object has both a `content` and `response` dictionary as an attribute. \n",
    "    4. The `contents` dictionary has an entry `message` that will contain instructions on how to proceed.\n",
    "    5. According to the instructions, new dictionary entries should be added to the `response` dictionary in the original _request_ object.\n",
    "    6. Finally, the `iterate` method of the interactive method should be called with the _request_ object as the only argument (with the `response` dictionary filled with relevant entries).\n",
    "    7. The `iterate` method will return a new _request_ object. This process is continued from step 3 and iterated until a satisfying solution is reached.\n",
    "- This above process is described in more detail in the DESDEO article, Section III-B, found [here](https://ieeexplore.ieee.org/abstract/document/9591595).\n",
    "- The above article contains other examples in Section IV that can be useful when tackling this assignment.\n",
    "- Some interactive methods will require a representation of the Pareto optimal front to function. You do not need to use these methods. Methods you can use are: NIMBUS, NAUTILUS, NAUTILUS2, the Reference Point Method, and Pareto Navigator.\n",
    "- __NOTE__: some interactive methods, like NIMBUS, can return two responses when their `iterate` method is called. Only the first response is relevant in these cases and the second response can be ignored."
   ]
  },
  {
   "cell_type": "code",
   "execution_count": 5,
   "id": "391ca688-4ae7-4c28-a86f-9931de39b205",
   "metadata": {},
   "outputs": [],
   "source": [
    "from desdeo_problem.testproblems import test_problem_builder\n",
    "from desdeo_mcdm.interactive import ReferencePointMethod\n",
    "import numpy as np"
   ]
  },
  {
   "cell_type": "code",
   "execution_count": 7,
   "id": "36dd89db-3e47-4050-a9f7-6ca41fab23f6",
   "metadata": {},
   "outputs": [],
   "source": [
    "mo_prob = test_problem_builder(\"DTLZ2\", 3, 2)\n",
    "\n",
    "mo_prob.ideal = np.array([0, 0])\n",
    "mo_prob.nadir = np.array([1, 1])"
   ]
  },
  {
   "cell_type": "code",
   "execution_count": 18,
   "id": "c9e33fac-a4c9-41a3-8b3f-155446553f91",
   "metadata": {},
   "outputs": [],
   "source": [
    "rpm = ReferencePointMethod(mo_prob, mo_prob.ideal, mo_prob.nadir)\n",
    "\n",
    "initial_request = rpm.start()\n"
   ]
  },
  {
   "cell_type": "code",
   "execution_count": 11,
   "id": "fdf1a5b2-9c4b-4d9a-8940-f82f85f7b308",
   "metadata": {},
   "outputs": [
    {
     "data": {
      "text/plain": [
       "\"Please specify a reference point as 'reference_point'.\""
      ]
     },
     "execution_count": 11,
     "metadata": {},
     "output_type": "execute_result"
    }
   ],
   "source": [
    "initial_request.content[\"message\"]"
   ]
  },
  {
   "cell_type": "code",
   "execution_count": 19,
   "id": "a69ef387-4ca8-4bfb-9f57-295ddbb22d39",
   "metadata": {},
   "outputs": [],
   "source": [
    "response_1 = {\"reference_point\": np.array([0.8, 0.1])}\n",
    "initial_request.response = response_1\n",
    "\n",
    "second_request = rpm.iterate(initial_request)"
   ]
  },
  {
   "cell_type": "code",
   "execution_count": 20,
   "id": "dca6eac8-62a7-4960-b61f-9345c3ec2a84",
   "metadata": {},
   "outputs": [
    {
     "data": {
      "text/plain": [
       "{'message': \"In case you are satisfied with one of the solutions, please state:  1. 'satisfied' as 'True'.2. 'solution_index' as the index number of the solution you choose, so that first solution has index number of 0, second 1 and so on.Otherwise, please state 'satisfied' as 'False and specify a new reference point as 'reference_point'.\",\n",
       " 'current_solution': array([0.93409096, 1.17365571]),\n",
       " 'additional_solutions': [array([1.49999595e+00, 8.66145188e-05]),\n",
       "  array([0.81004907, 1.26245887])]}"
      ]
     },
     "execution_count": 20,
     "metadata": {},
     "output_type": "execute_result"
    }
   ],
   "source": [
    "second_request.content"
   ]
  },
  {
   "cell_type": "code",
   "execution_count": 16,
   "id": "20a8ca4d-7ec1-4567-b23d-e9b319a4352f",
   "metadata": {},
   "outputs": [
    {
     "name": "stdout",
     "output_type": "stream",
     "text": [
      "Current solution: [0.93419677 1.17357159]; additional solutions: [array([1.49999597e+00, 4.28244505e-05]), array([0.81006527, 1.26244849])]\n"
     ]
    }
   ],
   "source": [
    "print(f\"Current solution: {second_request.content['current_solution']}; additional solutions: {second_request.content['additional_solutions']}\")"
   ]
  },
  {
   "cell_type": "code",
   "execution_count": 21,
   "id": "53d9a746-fd36-4f33-8a2d-9770beb46c26",
   "metadata": {},
   "outputs": [],
   "source": [
    "second_response = {\"reference_point\": np.array([0.1, 0.8])}\n",
    "second_request.response = second_response\n",
    "\n",
    "third_request = rpm.iterate(second_request)"
   ]
  },
  {
   "cell_type": "code",
   "execution_count": 22,
   "id": "da12db64-1fbe-42c3-9a73-ea66abde702d",
   "metadata": {},
   "outputs": [
    {
     "name": "stdout",
     "output_type": "stream",
     "text": [
      "Current solution: [1.17348069 0.93430135]; additional solutions: [array([1.2624332 , 0.81008173]), array([1.50335500e-04, 1.49998798e+00])]\n"
     ]
    }
   ],
   "source": [
    "print(f\"Current solution: {third_request.content['current_solution']}; additional solutions: {third_request.content['additional_solutions']}\")"
   ]
  },
  {
   "cell_type": "code",
   "execution_count": 23,
   "id": "72828dcc-d5f5-4a85-a55b-580928e01170",
   "metadata": {},
   "outputs": [],
   "source": [
    "# stop the method, we are happy with the first additional solution\n",
    "final_response = {\"satisfied\": True, \"solution_index\": 1}\n",
    "third_request.response = final_response\n",
    "\n",
    "final_request = rpm.iterate(third_request)"
   ]
  },
  {
   "cell_type": "code",
   "execution_count": 24,
   "id": "e89bc871-f8da-44ff-b76a-0ac7504c215d",
   "metadata": {},
   "outputs": [
    {
     "data": {
      "text/plain": [
       "{'message': 'Final solution found.',\n",
       " 'solution': array([0.36319548, 0.999995  , 0.999995  ]),\n",
       " 'objective_vector': array([1.2624332 , 0.81008173])}"
      ]
     },
     "execution_count": 24,
     "metadata": {},
     "output_type": "execute_result"
    }
   ],
   "source": [
    "final_request.content"
   ]
  },
  {
   "cell_type": "code",
   "execution_count": 25,
   "id": "31a5ee8f-3b03-451a-b319-b92de427fc0e",
   "metadata": {},
   "outputs": [
    {
     "name": "stdout",
     "output_type": "stream",
     "text": [
      "Final decison variables: [0.36319548 0.999995   0.999995  ]; final objective values: [1.2624332  0.81008173]\n"
     ]
    }
   ],
   "source": [
    "print(f\"Final decison variables: {final_request.content['solution']}; final objective values: {final_request.content['objective_vector']}\")"
   ]
  },
  {
   "cell_type": "code",
   "execution_count": null,
   "id": "c32208e7-ce6c-42f1-b0cf-4b9bfd95fa91",
   "metadata": {},
   "outputs": [],
   "source": []
  }
 ],
 "metadata": {
  "kernelspec": {
   "display_name": "Python 3 (ipykernel)",
   "language": "python",
   "name": "python3"
  },
  "language_info": {
   "codemirror_mode": {
    "name": "ipython",
    "version": 3
   },
   "file_extension": ".py",
   "mimetype": "text/x-python",
   "name": "python",
   "nbconvert_exporter": "python",
   "pygments_lexer": "ipython3",
   "version": "3.8.13"
  }
 },
 "nbformat": 4,
 "nbformat_minor": 5
}
