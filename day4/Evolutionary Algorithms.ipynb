{
 "cells": [
  {
   "cell_type": "markdown",
   "id": "39824173",
   "metadata": {
    "cell_style": "split",
    "slideshow": {
     "slide_type": "slide"
    }
   },
   "source": [
    "## Evolutionary Algorithms (EA)\n",
    "\n",
    "* Nature inspired optimization algorithms\n",
    "\n",
    "* Conduct optimization with a *population* of solutions\n",
    "\n",
    "* Optimization occurs over a number of *generations*\n",
    "\n",
    "* Individuals in a population *recombine* their properties to form offsprings\n",
    "\n",
    "* A *selection operator* chooses which solutions stay alive and which don't."
   ]
  },
  {
   "cell_type": "code",
   "execution_count": 1,
   "id": "2719afe9-aacf-4f56-8c52-878995584674",
   "metadata": {
    "cell_style": "split",
    "hide_input": false,
    "slideshow": {
     "slide_type": "fragment"
    }
   },
   "outputs": [
    {
     "name": "stdout",
     "output_type": "stream",
     "text": [
      "Help on package desdeo_emo:\n",
      "\n",
      "NAME\n",
      "    desdeo_emo\n",
      "\n",
      "PACKAGE CONTENTS\n",
      "    EAs (package)\n",
      "    population (package)\n",
      "    problem (package)\n",
      "    recombination (package)\n",
      "    selection (package)\n",
      "    surrogatemodels (package)\n",
      "    utilities (package)\n",
      "\n",
      "FILE\n",
      "    e:\\projects\\desdeo-emo\\desdeo_emo\\__init__.py\n",
      "\n",
      "\n"
     ]
    }
   ],
   "source": [
    "import desdeo_emo\n",
    "\n",
    "help(desdeo_emo)"
   ]
  },
  {
   "cell_type": "markdown",
   "id": "bba790e6",
   "metadata": {
    "cell_style": "split",
    "slideshow": {
     "slide_type": "slide"
    }
   },
   "source": [
    "## General Structure\n",
    "\n",
    "- Initialization\n",
    "\n",
    "- Generation loop\n",
    "\n",
    "    - Create Offsprings\n",
    "\n",
    "    - Evaluate Offsprings\n",
    "  \n",
    "    - Selection for next generation"
   ]
  },
  {
   "cell_type": "markdown",
   "id": "57604c0c",
   "metadata": {
    "cell_style": "split",
    "slideshow": {
     "slide_type": "fragment"
    }
   },
   "source": [
    "```python\n",
    "class EA():\n",
    "    def __init__(self):\n",
    "        self.population = Population()\n",
    "        self.selection = Selection()\n",
    "\n",
    "    def next_gen(self):\n",
    "        offspring = self.population.mate()\n",
    "        self.population.add(offspring)\n",
    "        ind_to_keep = self.selection.do()\n",
    "        self.population.keep(ind_to_keep)\n",
    "```"
   ]
  },
  {
   "cell_type": "markdown",
   "id": "a4367117",
   "metadata": {
    "cell_style": "split",
    "slideshow": {
     "slide_type": "slide"
    }
   },
   "source": [
    "## General Structure\n",
    "\n",
    "Many EAs group together a number of generations into an \"iteration\".\n",
    "\n",
    "- Initialization\n",
    "- Iteration loop\n",
    "  - Pre-iteration steps\n",
    "  - Generation loop\n",
    "  - Post-iteration steps\n",
    "- Termination"
   ]
  },
  {
   "cell_type": "markdown",
   "id": "eedb0b32",
   "metadata": {
    "cell_style": "split",
    "slideshow": {
     "slide_type": "fragment"
    }
   },
   "source": [
    "```python\n",
    "class New_EA(EA):\n",
    "    def pre_iteration(self):\n",
    "        some_things()\n",
    "       \n",
    "    def post_iteration(self):\n",
    "        other_things()\n",
    "    \n",
    "```\n",
    "```python\n",
    "    def iterate(self):\n",
    "        self.pre_iteration()\n",
    "        while condition:\n",
    "            self.next_gen()\n",
    "        self.post_iteration()\n",
    "\n",
    "    def end(self):\n",
    "        final_things()\n",
    "```"
   ]
  },
  {
   "cell_type": "code",
   "execution_count": 2,
   "id": "58b310f7",
   "metadata": {
    "slideshow": {
     "slide_type": "skip"
    }
   },
   "outputs": [],
   "source": [
    "import warnings\n",
    "warnings.filterwarnings('ignore')"
   ]
  },
  {
   "cell_type": "code",
   "execution_count": 3,
   "id": "36ba2569",
   "metadata": {
    "cell_style": "split",
    "slideshow": {
     "slide_type": "slide"
    }
   },
   "outputs": [],
   "source": [
    "from desdeo_problem import (\n",
    "    variable_builder, VectorObjective, MOProblem)\n",
    "import numpy as np\n",
    "import pandas as pd\n",
    "\n",
    "variables = variable_builder(\n",
    "    names = [\"x_1\", \"x_2\"],\n",
    "    initial_values = [0.5,0.5],\n",
    "    lower_bounds = [0, 0],\n",
    "    upper_bounds = [1, 1]\n",
    ")\n",
    "\n",
    "def y(x):\n",
    "    y1 = (x[:, 0] + x[:, 1]) / 2\n",
    "    y2 = (x[:, 0] - x[:, 1] + 1) / 2\n",
    "    return np.array((y1,y2)).T\n",
    "\n",
    "objectives = VectorObjective(\n",
    "    name=[\"y_1\", \"y_2\"],\n",
    "    evaluator=y,\n",
    ")\n",
    "\n",
    "problem = MOProblem(\n",
    "    objectives=[objectives],\n",
    "    variables=variables\n",
    ")"
   ]
  },
  {
   "cell_type": "code",
   "execution_count": 4,
   "id": "c5848693",
   "metadata": {
    "cell_style": "split",
    "slideshow": {
     "slide_type": "fragment"
    }
   },
   "outputs": [
    {
     "name": "stdout",
     "output_type": "stream",
     "text": [
      "Evaluation Results Object \n",
      "Objective values are: \n",
      "[[0.6 0.4]]\n",
      "Constraint violation values are: \n",
      "None\n",
      "Fitness values are: \n",
      "[[0.6 0.4]]\n",
      "Uncertainity values are: \n",
      "[[nan nan]]\n",
      "\n"
     ]
    }
   ],
   "source": [
    "print(\n",
    "    problem.evaluate(\n",
    "        np.array([[0.5, 0.7]])\n",
    "))"
   ]
  },
  {
   "cell_type": "code",
   "execution_count": 23,
   "id": "89407664",
   "metadata": {
    "slideshow": {
     "slide_type": "slide"
    }
   },
   "outputs": [],
   "source": [
    "from desdeo_emo.EAs import NSGAIII\n",
    "# DESDEO provides implementations of NSGA-III, and RVEA.\n",
    "\n",
    "evolver = NSGAIII(\n",
    "    problem,\n",
    "    population_size=10,\n",
    "    n_gen_per_iter=3,\n",
    "    n_iterations=10,\n",
    "    #keep_archive=True\n",
    ")"
   ]
  },
  {
   "cell_type": "code",
   "execution_count": 24,
   "id": "28972a8c",
   "metadata": {
    "cell_style": "split",
    "slideshow": {
     "slide_type": "slide"
    }
   },
   "outputs": [],
   "source": [
    "evolver.start()\n",
    "while evolver.continue_evolution():\n",
    "    evolver.iterate()\n",
    "ind, objs, archive = evolver.end()"
   ]
  },
  {
   "cell_type": "code",
   "execution_count": 12,
   "id": "d73a1673-d966-4f37-9879-86e7cdb3fdfc",
   "metadata": {
    "collapsed": true,
    "jupyter": {
     "outputs_hidden": true
    },
    "tags": []
   },
   "outputs": [
    {
     "data": {
      "text/plain": [
       "{0: {'iteration': 0,\n",
       "  'decision variables':         x_1       x_2\n",
       "  0  0.933066  0.442866\n",
       "  1  0.157865  0.104562\n",
       "  2  0.725658  0.832093\n",
       "  3  0.283686  0.900714\n",
       "  4  0.432174  0.505876\n",
       "  5  0.833533  0.389522\n",
       "  6  0.539353  0.051063\n",
       "  7  0.315098  0.734798\n",
       "  8  0.033415  0.624876\n",
       "  9  0.693950  0.283658,\n",
       "  'objectives':         y_1       y_2\n",
       "  0  0.687966  0.745100\n",
       "  1  0.131213  0.526651\n",
       "  2  0.778876  0.446783\n",
       "  3  0.592200  0.191486\n",
       "  4  0.469025  0.463149\n",
       "  5  0.611528  0.722006\n",
       "  6  0.295208  0.744145\n",
       "  7  0.524948  0.290150\n",
       "  8  0.329146  0.204269\n",
       "  9  0.488804  0.705146,\n",
       "  'fitness':         y_1       y_2\n",
       "  0  0.687966  0.745100\n",
       "  1  0.131213  0.526651\n",
       "  2  0.778876  0.446783\n",
       "  3  0.592200  0.191486\n",
       "  4  0.469025  0.463149\n",
       "  5  0.611528  0.722006\n",
       "  6  0.295208  0.744145\n",
       "  7  0.524948  0.290150\n",
       "  8  0.329146  0.204269\n",
       "  9  0.488804  0.705146},\n",
       " 3: {'iteration': 1,\n",
       "  'decision variables':         x_1       x_2\n",
       "  0  0.033415  0.624876\n",
       "  1  0.040182  0.426177\n",
       "  2  0.040208  0.424157\n",
       "  3  0.028240  0.063579\n",
       "  4  0.102044  0.349654\n",
       "  5  0.040520  0.437880\n",
       "  6  0.048352  0.087054\n",
       "  7  0.130977  0.875166\n",
       "  8  0.157316  0.096141\n",
       "  9  0.041051  0.422847,\n",
       "  'objectives':         y_1       y_2\n",
       "  0  0.329146  0.204269\n",
       "  1  0.233179  0.307003\n",
       "  2  0.232183  0.308025\n",
       "  3  0.045910  0.482331\n",
       "  4  0.225849  0.376195\n",
       "  5  0.239200  0.301320\n",
       "  6  0.067703  0.480649\n",
       "  7  0.503072  0.127906\n",
       "  8  0.126729  0.530587\n",
       "  9  0.231949  0.309102,\n",
       "  'fitness':         y_1       y_2\n",
       "  0  0.329146  0.204269\n",
       "  1  0.233179  0.307003\n",
       "  2  0.232183  0.308025\n",
       "  3  0.045910  0.482331\n",
       "  4  0.225849  0.376195\n",
       "  5  0.239200  0.301320\n",
       "  6  0.067703  0.480649\n",
       "  7  0.503072  0.127906\n",
       "  8  0.126729  0.530587\n",
       "  9  0.231949  0.309102},\n",
       " 6: {'iteration': 2,\n",
       "  'decision variables':         x_1       x_2\n",
       "  0  0.028240  0.063579\n",
       "  1  0.040596  0.848486\n",
       "  2  0.051748  0.146396\n",
       "  3  0.040194  0.462873\n",
       "  4  0.033610  0.643942\n",
       "  5  0.040625  0.233187\n",
       "  6  0.028288  0.579385\n",
       "  7  0.040186  0.462355\n",
       "  8  0.040594  0.364339\n",
       "  9  0.051965  0.954480,\n",
       "  'objectives':         y_1       y_2\n",
       "  0  0.045910  0.482331\n",
       "  1  0.444541  0.096055\n",
       "  2  0.099072  0.452676\n",
       "  3  0.251534  0.288661\n",
       "  4  0.338776  0.194834\n",
       "  5  0.136906  0.403719\n",
       "  6  0.303836  0.224452\n",
       "  7  0.251270  0.288915\n",
       "  8  0.202467  0.338127\n",
       "  9  0.503222  0.048742,\n",
       "  'fitness':         y_1       y_2\n",
       "  0  0.045910  0.482331\n",
       "  1  0.444541  0.096055\n",
       "  2  0.099072  0.452676\n",
       "  3  0.251534  0.288661\n",
       "  4  0.338776  0.194834\n",
       "  5  0.136906  0.403719\n",
       "  6  0.303836  0.224452\n",
       "  7  0.251270  0.288915\n",
       "  8  0.202467  0.338127\n",
       "  9  0.503222  0.048742},\n",
       " 9: {'iteration': 3,\n",
       "  'decision variables':         x_1       x_2\n",
       "  0  0.028497  0.852091\n",
       "  1  0.028498  0.234514\n",
       "  2  0.007916  0.144651\n",
       "  3  0.033642  0.651765\n",
       "  4  0.033879  0.550492\n",
       "  5  0.006573  0.373424\n",
       "  6  0.040817  0.972574\n",
       "  7  0.008042  0.169257\n",
       "  8  0.007883  0.446184\n",
       "  9  0.021872  0.065331,\n",
       "  'objectives':         y_1       y_2\n",
       "  0  0.440294  0.088203\n",
       "  1  0.131506  0.396992\n",
       "  2  0.076283  0.431632\n",
       "  3  0.342704  0.190939\n",
       "  4  0.292186  0.241693\n",
       "  5  0.189999  0.316575\n",
       "  6  0.506695  0.034122\n",
       "  7  0.088649  0.419392\n",
       "  8  0.227034  0.280850\n",
       "  9  0.043601  0.478270,\n",
       "  'fitness':         y_1       y_2\n",
       "  0  0.440294  0.088203\n",
       "  1  0.131506  0.396992\n",
       "  2  0.076283  0.431632\n",
       "  3  0.342704  0.190939\n",
       "  4  0.292186  0.241693\n",
       "  5  0.189999  0.316575\n",
       "  6  0.506695  0.034122\n",
       "  7  0.088649  0.419392\n",
       "  8  0.227034  0.280850\n",
       "  9  0.043601  0.478270},\n",
       " 12: {'iteration': 4,\n",
       "  'decision variables':         x_1       x_2\n",
       "  0  0.008042  0.169257\n",
       "  1  0.007883  0.446184\n",
       "  2  0.007012  0.260404\n",
       "  3  0.002958  0.676760\n",
       "  4  0.006625  0.979642\n",
       "  5  0.005607  0.538305\n",
       "  6  0.005848  0.684598\n",
       "  7  0.003015  0.363066\n",
       "  8  0.028336  0.007706\n",
       "  9  0.007730  0.870010,\n",
       "  'objectives':         y_1       y_2\n",
       "  0  0.088649  0.419392\n",
       "  1  0.227034  0.280850\n",
       "  2  0.133708  0.373304\n",
       "  3  0.339859  0.163099\n",
       "  4  0.493134  0.013492\n",
       "  5  0.271956  0.233651\n",
       "  6  0.345223  0.160625\n",
       "  7  0.183040  0.319974\n",
       "  8  0.018021  0.510315\n",
       "  9  0.438870  0.068860,\n",
       "  'fitness':         y_1       y_2\n",
       "  0  0.088649  0.419392\n",
       "  1  0.227034  0.280850\n",
       "  2  0.133708  0.373304\n",
       "  3  0.339859  0.163099\n",
       "  4  0.493134  0.013492\n",
       "  5  0.271956  0.233651\n",
       "  6  0.345223  0.160625\n",
       "  7  0.183040  0.319974\n",
       "  8  0.018021  0.510315\n",
       "  9  0.438870  0.068860},\n",
       " 15: {'iteration': 5,\n",
       "  'decision variables':         x_1       x_2\n",
       "  0  0.006648  0.999760\n",
       "  1  0.000496  0.365203\n",
       "  2  0.003084  0.013834\n",
       "  3  0.008014  0.219710\n",
       "  4  0.007017  0.117651\n",
       "  5  0.005641  0.585774\n",
       "  6  0.006698  1.000000\n",
       "  7  0.002908  0.666845\n",
       "  8  0.007843  0.447719\n",
       "  9  0.001637  0.893820,\n",
       "  'objectives':         y_1       y_2\n",
       "  0  0.503204  0.003444\n",
       "  1  0.182850  0.317647\n",
       "  2  0.008459  0.494625\n",
       "  3  0.113862  0.394152\n",
       "  4  0.062334  0.444683\n",
       "  5  0.295708  0.209934\n",
       "  6  0.503349  0.003349\n",
       "  7  0.334876  0.168031\n",
       "  8  0.227781  0.280062\n",
       "  9  0.447729  0.053908,\n",
       "  'fitness':         y_1       y_2\n",
       "  0  0.503204  0.003444\n",
       "  1  0.182850  0.317647\n",
       "  2  0.008459  0.494625\n",
       "  3  0.113862  0.394152\n",
       "  4  0.062334  0.444683\n",
       "  5  0.295708  0.209934\n",
       "  6  0.503349  0.003349\n",
       "  7  0.334876  0.168031\n",
       "  8  0.227781  0.280062\n",
       "  9  0.447729  0.053908},\n",
       " 18: {'iteration': 6,\n",
       "  'decision variables':         x_1       x_2\n",
       "  0  0.008014  0.219710\n",
       "  1  0.007017  0.117651\n",
       "  2  0.002908  0.666845\n",
       "  3  0.007843  0.447719\n",
       "  4  0.001637  0.893820\n",
       "  5  0.000355  0.999980\n",
       "  6  0.007024  0.573715\n",
       "  7  0.003503  0.324966\n",
       "  8  0.001489  0.001080\n",
       "  9  0.000189  0.363120,\n",
       "  'objectives':         y_1       y_2\n",
       "  0  0.113862  0.394152\n",
       "  1  0.062334  0.444683\n",
       "  2  0.334876  0.168031\n",
       "  3  0.227781  0.280062\n",
       "  4  0.447729  0.053908\n",
       "  5  0.500168  0.000187\n",
       "  6  0.290369  0.216654\n",
       "  7  0.164234  0.339269\n",
       "  8  0.001285  0.500205\n",
       "  9  0.181655  0.318534,\n",
       "  'fitness':         y_1       y_2\n",
       "  0  0.113862  0.394152\n",
       "  1  0.062334  0.444683\n",
       "  2  0.334876  0.168031\n",
       "  3  0.227781  0.280062\n",
       "  4  0.447729  0.053908\n",
       "  5  0.500168  0.000187\n",
       "  6  0.290369  0.216654\n",
       "  7  0.164234  0.339269\n",
       "  8  0.001285  0.500205\n",
       "  9  0.181655  0.318534},\n",
       " 21: {'iteration': 7,\n",
       "  'decision variables':         x_1       x_2\n",
       "  0  0.008014  0.219710\n",
       "  1  0.001637  0.893820\n",
       "  2  0.000355  0.999980\n",
       "  3  0.007054  0.337048\n",
       "  4  0.008013  0.444293\n",
       "  5  0.001640  0.000000\n",
       "  6  0.000142  0.115824\n",
       "  7  0.002797  0.666983\n",
       "  8  0.007940  0.221408\n",
       "  9  0.000157  0.571904,\n",
       "  'objectives':         y_1       y_2\n",
       "  0  0.113862  0.394152\n",
       "  1  0.447729  0.053908\n",
       "  2  0.500168  0.000187\n",
       "  3  0.172051  0.335003\n",
       "  4  0.226153  0.281860\n",
       "  5  0.000820  0.500820\n",
       "  6  0.057983  0.442159\n",
       "  7  0.334890  0.167907\n",
       "  8  0.114674  0.393266\n",
       "  9  0.286031  0.214127,\n",
       "  'fitness':         y_1       y_2\n",
       "  0  0.113862  0.394152\n",
       "  1  0.447729  0.053908\n",
       "  2  0.500168  0.000187\n",
       "  3  0.172051  0.335003\n",
       "  4  0.226153  0.281860\n",
       "  5  0.000820  0.500820\n",
       "  6  0.057983  0.442159\n",
       "  7  0.334890  0.167907\n",
       "  8  0.114674  0.393266\n",
       "  9  0.286031  0.214127},\n",
       " 24: {'iteration': 8,\n",
       "  'decision variables':         x_1       x_2\n",
       "  0  0.008014  0.219710\n",
       "  1  0.001637  0.893820\n",
       "  2  0.007054  0.337048\n",
       "  3  0.008013  0.444293\n",
       "  4  0.001640  0.000000\n",
       "  5  0.002797  0.666983\n",
       "  6  0.001508  0.110263\n",
       "  7  0.000131  0.569181\n",
       "  8  0.000283  1.000000\n",
       "  9  0.007022  0.301933,\n",
       "  'objectives':         y_1       y_2\n",
       "  0  0.113862  0.394152\n",
       "  1  0.447729  0.053908\n",
       "  2  0.172051  0.335003\n",
       "  3  0.226153  0.281860\n",
       "  4  0.000820  0.500820\n",
       "  5  0.334890  0.167907\n",
       "  6  0.055886  0.445623\n",
       "  7  0.284656  0.215475\n",
       "  8  0.500142  0.000142\n",
       "  9  0.154478  0.352544,\n",
       "  'fitness':         y_1       y_2\n",
       "  0  0.113862  0.394152\n",
       "  1  0.447729  0.053908\n",
       "  2  0.172051  0.335003\n",
       "  3  0.226153  0.281860\n",
       "  4  0.000820  0.500820\n",
       "  5  0.334890  0.167907\n",
       "  6  0.055886  0.445623\n",
       "  7  0.284656  0.215475\n",
       "  8  0.500142  0.000142\n",
       "  9  0.154478  0.352544},\n",
       " 27: {'iteration': 9,\n",
       "  'decision variables':         x_1       x_2\n",
       "  0  0.001637  0.893820\n",
       "  1  0.007054  0.337048\n",
       "  2  0.008013  0.444293\n",
       "  3  0.002797  0.666983\n",
       "  4  0.001508  0.110263\n",
       "  5  0.000131  0.569181\n",
       "  6  0.000265  1.000000\n",
       "  7  0.000008  0.224914\n",
       "  8  0.001651  0.781261\n",
       "  9  0.000883  0.000000,\n",
       "  'objectives':         y_1       y_2\n",
       "  0  0.447729  0.053908\n",
       "  1  0.172051  0.335003\n",
       "  2  0.226153  0.281860\n",
       "  3  0.334890  0.167907\n",
       "  4  0.055886  0.445623\n",
       "  5  0.284656  0.215475\n",
       "  6  0.500132  0.000132\n",
       "  7  0.112461  0.387547\n",
       "  8  0.391456  0.110195\n",
       "  9  0.000441  0.500441,\n",
       "  'fitness':         y_1       y_2\n",
       "  0  0.447729  0.053908\n",
       "  1  0.172051  0.335003\n",
       "  2  0.226153  0.281860\n",
       "  3  0.334890  0.167907\n",
       "  4  0.055886  0.445623\n",
       "  5  0.284656  0.215475\n",
       "  6  0.500132  0.000132\n",
       "  7  0.112461  0.387547\n",
       "  8  0.391456  0.110195\n",
       "  9  0.000441  0.500441},\n",
       " 30: {'iteration': 10,\n",
       "  'decision variables':         x_1       x_2\n",
       "  0  0.001637  0.893820\n",
       "  1  0.008013  0.444293\n",
       "  2  0.002797  0.666983\n",
       "  3  0.001508  0.110263\n",
       "  4  0.000131  0.569181\n",
       "  5  0.000265  1.000000\n",
       "  6  0.000008  0.224914\n",
       "  7  0.001651  0.781261\n",
       "  8  0.000547  0.000000\n",
       "  9  0.000552  0.342146,\n",
       "  'objectives':         y_1       y_2\n",
       "  0  0.447729  0.053908\n",
       "  1  0.226153  0.281860\n",
       "  2  0.334890  0.167907\n",
       "  3  0.055886  0.445623\n",
       "  4  0.284656  0.215475\n",
       "  5  0.500132  0.000132\n",
       "  6  0.112461  0.387547\n",
       "  7  0.391456  0.110195\n",
       "  8  0.000273  0.500273\n",
       "  9  0.171349  0.329203,\n",
       "  'fitness':         y_1       y_2\n",
       "  0  0.447729  0.053908\n",
       "  1  0.226153  0.281860\n",
       "  2  0.334890  0.167907\n",
       "  3  0.055886  0.445623\n",
       "  4  0.284656  0.215475\n",
       "  5  0.500132  0.000132\n",
       "  6  0.112461  0.387547\n",
       "  7  0.391456  0.110195\n",
       "  8  0.000273  0.500273\n",
       "  9  0.171349  0.329203}}"
      ]
     },
     "execution_count": 12,
     "metadata": {},
     "output_type": "execute_result"
    }
   ],
   "source": [
    "archive"
   ]
  },
  {
   "cell_type": "code",
   "execution_count": 7,
   "id": "d07c2e27",
   "metadata": {
    "slideshow": {
     "slide_type": "skip"
    }
   },
   "outputs": [],
   "source": [
    "# Restructuring data in \"archive\" to \"solutions\" in a usable format for visualization\n",
    "\n",
    "solutions = pd.DataFrame(columns=[\"y_1\", \"y_2\", \"iteration\"], dtype=float)\n",
    "for gen_index in archive:\n",
    "    current = pd.DataFrame(columns=[\"y_1\", \"y_2\", \"iteration\"], index=range(10))\n",
    "    current[\"y_1\"] = archive[gen_index][\"objectives\"][\"y_1\"][archive[gen_index][\"objectives\"][\"y_1\"].argsort()].reset_index(drop=True)\n",
    "    current[\"y_2\"] = archive[gen_index][\"objectives\"][\"y_2\"][archive[gen_index][\"objectives\"][\"y_1\"].argsort()].reset_index(drop=True)\n",
    "    current[\"iteration\"] = archive[gen_index][\"iteration\"]\n",
    "    solutions = solutions.append([current])"
   ]
  },
  {
   "cell_type": "code",
   "execution_count": 25,
   "id": "b80aa1ec",
   "metadata": {
    "cell_style": "split",
    "hide_input": true,
    "slideshow": {
     "slide_type": "fragment"
    }
   },
   "outputs": [
    {
     "data": {
      "application/vnd.plotly.v1+json": {
       "config": {
        "plotlyServerURL": "https://plot.ly"
       },
       "data": [
        {
         "hovertemplate": "iteration=0.0<br>y_1=%{x}<br>y_2=%{y}<extra></extra>",
         "legendgroup": "",
         "marker": {
          "color": "#1F77B4",
          "symbol": "circle"
         },
         "mode": "markers",
         "name": "",
         "orientation": "v",
         "showlegend": false,
         "type": "scatter",
         "x": [
          0.1312134261718642,
          0.29520819801550346,
          0.32914591023810374,
          0.4690253793483471,
          0.48880396545399873,
          0.5249479508461674,
          0.5922000992969606,
          0.6115276488322282,
          0.6879656340020822,
          0.7788755055697469
         ],
         "xaxis": "x",
         "y": [
          0.5266513714316883,
          0.744145041892627,
          0.20426942522397878,
          0.4631489611481592,
          0.7051459744330618,
          0.2901503485245669,
          0.19148568642601327,
          0.7220057593102744,
          0.7450999745024673,
          0.4467827984574864
         ],
         "yaxis": "y"
        }
       ],
       "frames": [
        {
         "data": [
          {
           "hovertemplate": "iteration=0.0<br>y_1=%{x}<br>y_2=%{y}<extra></extra>",
           "legendgroup": "",
           "marker": {
            "color": "#1F77B4",
            "symbol": "circle"
           },
           "mode": "markers",
           "name": "",
           "orientation": "v",
           "showlegend": false,
           "type": "scatter",
           "x": [
            0.1312134261718642,
            0.29520819801550346,
            0.32914591023810374,
            0.4690253793483471,
            0.48880396545399873,
            0.5249479508461674,
            0.5922000992969606,
            0.6115276488322282,
            0.6879656340020822,
            0.7788755055697469
           ],
           "xaxis": "x",
           "y": [
            0.5266513714316883,
            0.744145041892627,
            0.20426942522397878,
            0.4631489611481592,
            0.7051459744330618,
            0.2901503485245669,
            0.19148568642601327,
            0.7220057593102744,
            0.7450999745024673,
            0.4467827984574864
           ],
           "yaxis": "y"
          }
         ],
         "name": "0.0"
        },
        {
         "data": [
          {
           "hovertemplate": "iteration=1.0<br>y_1=%{x}<br>y_2=%{y}<extra></extra>",
           "legendgroup": "",
           "marker": {
            "color": "#1F77B4",
            "symbol": "circle"
           },
           "mode": "markers",
           "name": "",
           "orientation": "v",
           "showlegend": false,
           "type": "scatter",
           "x": [
            0.045909553945614905,
            0.0677033779009267,
            0.12672850087662574,
            0.22584902247450753,
            0.23194913224799563,
            0.2321828637466627,
            0.23317922194359825,
            0.23920012499794155,
            0.32914591023810374,
            0.5030716610469008
           ],
           "xaxis": "x",
           "y": [
            0.4823308593387298,
            0.4806490328175959,
            0.5305870151448376,
            0.3761947286445789,
            0.3091016833892959,
            0.3080254766607906,
            0.30700254647358977,
            0.3013201830594461,
            0.20426942522397878,
            0.12790564279621136
           ],
           "yaxis": "y"
          }
         ],
         "name": "1.0"
        },
        {
         "data": [
          {
           "hovertemplate": "iteration=2.0<br>y_1=%{x}<br>y_2=%{y}<extra></extra>",
           "legendgroup": "",
           "marker": {
            "color": "#1F77B4",
            "symbol": "circle"
           },
           "mode": "markers",
           "name": "",
           "orientation": "v",
           "showlegend": false,
           "type": "scatter",
           "x": [
            0.045909553945614905,
            0.09907180262282367,
            0.13690593515612842,
            0.20246676702163638,
            0.2512704175353865,
            0.25153385502328407,
            0.3038364944654216,
            0.33877609247025614,
            0.4445413019150847,
            0.5032223069136672
           ],
           "xaxis": "x",
           "y": [
            0.4823308593387298,
            0.45267577844183243,
            0.40371898286297087,
            0.33812740121000107,
            0.28891545028649634,
            0.28866058060052335,
            0.22445161731698293,
            0.19483392326489363,
            0.09605488486059421,
            0.048742367571856904
           ],
           "yaxis": "y"
          }
         ],
         "name": "2.0"
        },
        {
         "data": [
          {
           "hovertemplate": "iteration=3.0<br>y_1=%{x}<br>y_2=%{y}<extra></extra>",
           "legendgroup": "",
           "marker": {
            "color": "#1F77B4",
            "symbol": "circle"
           },
           "mode": "markers",
           "name": "",
           "orientation": "v",
           "showlegend": false,
           "type": "scatter",
           "x": [
            0.04360139557408842,
            0.07628320130305777,
            0.08864939738175268,
            0.1315059570937481,
            0.18999870090614981,
            0.22703376855026808,
            0.2921857117570298,
            0.34270389855550276,
            0.44029392142413226,
            0.50669523844558
           ],
           "xaxis": "x",
           "y": [
            0.47827021810983417,
            0.4316324761814805,
            0.41939215317798756,
            0.3969920454769157,
            0.3165745230107314,
            0.2808496622672922,
            0.24169331207564604,
            0.19093852703566994,
            0.08820320507928969,
            0.03412159311192031
           ],
           "yaxis": "y"
          }
         ],
         "name": "3.0"
        },
        {
         "data": [
          {
           "hovertemplate": "iteration=4.0<br>y_1=%{x}<br>y_2=%{y}<extra></extra>",
           "legendgroup": "",
           "marker": {
            "color": "#1F77B4",
            "symbol": "circle"
           },
           "mode": "markers",
           "name": "",
           "orientation": "v",
           "showlegend": false,
           "type": "scatter",
           "x": [
            0.018020852291370168,
            0.08864939738175268,
            0.13370828377372998,
            0.18304021468473164,
            0.22703376855026808,
            0.27195606244706083,
            0.33985873579827863,
            0.34522267971547504,
            0.4388703965906995,
            0.4931335835450221
           ],
           "xaxis": "x",
           "y": [
            0.5103150476917041,
            0.41939215317798756,
            0.37330414280044366,
            0.3199743061903246,
            0.2808496622672922,
            0.23365076132663365,
            0.16309900978425462,
            0.16062496103150659,
            0.06885997190230386,
            0.013491763229361076
           ],
           "yaxis": "y"
          }
         ],
         "name": "4.0"
        },
        {
         "data": [
          {
           "hovertemplate": "iteration=5.0<br>y_1=%{x}<br>y_2=%{y}<extra></extra>",
           "legendgroup": "",
           "marker": {
            "color": "#1F77B4",
            "symbol": "circle"
           },
           "mode": "markers",
           "name": "",
           "orientation": "v",
           "showlegend": false,
           "type": "scatter",
           "x": [
            0.00845898430382053,
            0.062334142327201074,
            0.11386193428158667,
            0.18284951105783395,
            0.22778121727566372,
            0.2957075790574198,
            0.33487644508447906,
            0.44772884737614926,
            0.503203978479123,
            0.5033489953704714
           ],
           "xaxis": "x",
           "y": [
            0.49462535788379763,
            0.44468321817158724,
            0.39415195137389236,
            0.3176466402808812,
            0.28006227867825717,
            0.2099336209762897,
            0.16803138751114116,
            0.05390838054520897,
            0.0034440992749065757,
            0.003348995370471397
           ],
           "yaxis": "y"
          }
         ],
         "name": "5.0"
        },
        {
         "data": [
          {
           "hovertemplate": "iteration=6.0<br>y_1=%{x}<br>y_2=%{y}<extra></extra>",
           "legendgroup": "",
           "marker": {
            "color": "#1F77B4",
            "symbol": "circle"
           },
           "mode": "markers",
           "name": "",
           "orientation": "v",
           "showlegend": false,
           "type": "scatter",
           "x": [
            0.001284642623339172,
            0.062334142327201074,
            0.11386193428158667,
            0.16423437542984887,
            0.18165468105066207,
            0.22778121727566372,
            0.29036933512339164,
            0.33487644508447906,
            0.44772884737614926,
            0.5001678536058947
           ],
           "xaxis": "x",
           "y": [
            0.5002046544761187,
            0.44468321817158724,
            0.39415195137389236,
            0.3392685790989095,
            0.3185343187857064,
            0.28006227867825717,
            0.216654339068238,
            0.16803138751114116,
            0.05390838054520897,
            0.00018742717621811344
           ],
           "yaxis": "y"
          }
         ],
         "name": "6.0"
        },
        {
         "data": [
          {
           "hovertemplate": "iteration=7.0<br>y_1=%{x}<br>y_2=%{y}<extra></extra>",
           "legendgroup": "",
           "marker": {
            "color": "#1F77B4",
            "symbol": "circle"
           },
           "mode": "markers",
           "name": "",
           "orientation": "v",
           "showlegend": false,
           "type": "scatter",
           "x": [
            0.0008198877250776493,
            0.057982885779107034,
            0.11386193428158667,
            0.11467431117867745,
            0.17205108676674194,
            0.22615323047604888,
            0.2860306577118691,
            0.3348898835934428,
            0.44772884737614926,
            0.5001678536058947
           ],
           "xaxis": "x",
           "y": [
            0.5008198877250777,
            0.44215918206406,
            0.39415195137389236,
            0.3932660212799544,
            0.33500305144770826,
            0.2818600766393964,
            0.2141266066036408,
            0.16790710860230934,
            0.05390838054520897,
            0.00018742717621811344
           ],
           "yaxis": "y"
          }
         ],
         "name": "7.0"
        },
        {
         "data": [
          {
           "hovertemplate": "iteration=8.0<br>y_1=%{x}<br>y_2=%{y}<extra></extra>",
           "legendgroup": "",
           "marker": {
            "color": "#1F77B4",
            "symbol": "circle"
           },
           "mode": "markers",
           "name": "",
           "orientation": "v",
           "showlegend": false,
           "type": "scatter",
           "x": [
            0.0008198877250776493,
            0.05588550682546769,
            0.11386193428158667,
            0.1544777618931492,
            0.17205108676674194,
            0.22615323047604888,
            0.28465577252710084,
            0.3348898835934428,
            0.44772884737614926,
            0.5001416417760689
           ],
           "xaxis": "x",
           "y": [
            0.5008198877250777,
            0.4456226312402116,
            0.39415195137389236,
            0.3525443933218658,
            0.33500305144770826,
            0.2818600766393964,
            0.21547506646339942,
            0.16790710860230934,
            0.05390838054520897,
            0.0001416417760689015
           ],
           "yaxis": "y"
          }
         ],
         "name": "8.0"
        },
        {
         "data": [
          {
           "hovertemplate": "iteration=9.0<br>y_1=%{x}<br>y_2=%{y}<extra></extra>",
           "legendgroup": "",
           "marker": {
            "color": "#1F77B4",
            "symbol": "circle"
           },
           "mode": "markers",
           "name": "",
           "orientation": "v",
           "showlegend": false,
           "type": "scatter",
           "x": [
            0.00044128243201208765,
            0.05588550682546769,
            0.11246056645715138,
            0.17205108676674194,
            0.22615323047604888,
            0.28465577252710084,
            0.3348898835934428,
            0.3914558506004846,
            0.44772884737614926,
            0.5001323949647828
           ],
           "xaxis": "x",
           "y": [
            0.5004412824320121,
            0.4456226312402116,
            0.3875469793573646,
            0.33500305144770826,
            0.2818600766393964,
            0.21547506646339942,
            0.16790710860230934,
            0.11019476895216451,
            0.05390838054520897,
            0.00013239496478278934
           ],
           "yaxis": "y"
          }
         ],
         "name": "9.0"
        },
        {
         "data": [
          {
           "hovertemplate": "iteration=10.0<br>y_1=%{x}<br>y_2=%{y}<extra></extra>",
           "legendgroup": "",
           "marker": {
            "color": "#1F77B4",
            "symbol": "circle"
           },
           "mode": "markers",
           "name": "",
           "orientation": "v",
           "showlegend": false,
           "type": "scatter",
           "x": [
            0.0002733118663302568,
            0.05588550682546769,
            0.11246056645715138,
            0.171349166416067,
            0.22615323047604888,
            0.28465577252710084,
            0.3348898835934428,
            0.3914558506004846,
            0.44772884737614926,
            0.5001323949647828
           ],
           "xaxis": "x",
           "y": [
            0.5002733118663303,
            0.4456226312402116,
            0.3875469793573646,
            0.3292026713925804,
            0.2818600766393964,
            0.21547506646339942,
            0.16790710860230934,
            0.11019476895216451,
            0.05390838054520897,
            0.00013239496478278934
           ],
           "yaxis": "y"
          }
         ],
         "name": "10.0"
        }
       ],
       "layout": {
        "autosize": true,
        "legend": {
         "tracegroupgap": 0
        },
        "margin": {
         "t": 60
        },
        "sliders": [
         {
          "active": 0,
          "currentvalue": {
           "prefix": "iteration="
          },
          "len": 0.9,
          "pad": {
           "b": 10,
           "t": 60
          },
          "steps": [
           {
            "args": [
             [
              "0.0"
             ],
             {
              "frame": {
               "duration": 0,
               "redraw": false
              },
              "fromcurrent": true,
              "mode": "immediate",
              "transition": {
               "duration": 0,
               "easing": "linear"
              }
             }
            ],
            "label": "0.0",
            "method": "animate"
           },
           {
            "args": [
             [
              "1.0"
             ],
             {
              "frame": {
               "duration": 0,
               "redraw": false
              },
              "fromcurrent": true,
              "mode": "immediate",
              "transition": {
               "duration": 0,
               "easing": "linear"
              }
             }
            ],
            "label": "1.0",
            "method": "animate"
           },
           {
            "args": [
             [
              "2.0"
             ],
             {
              "frame": {
               "duration": 0,
               "redraw": false
              },
              "fromcurrent": true,
              "mode": "immediate",
              "transition": {
               "duration": 0,
               "easing": "linear"
              }
             }
            ],
            "label": "2.0",
            "method": "animate"
           },
           {
            "args": [
             [
              "3.0"
             ],
             {
              "frame": {
               "duration": 0,
               "redraw": false
              },
              "fromcurrent": true,
              "mode": "immediate",
              "transition": {
               "duration": 0,
               "easing": "linear"
              }
             }
            ],
            "label": "3.0",
            "method": "animate"
           },
           {
            "args": [
             [
              "4.0"
             ],
             {
              "frame": {
               "duration": 0,
               "redraw": false
              },
              "fromcurrent": true,
              "mode": "immediate",
              "transition": {
               "duration": 0,
               "easing": "linear"
              }
             }
            ],
            "label": "4.0",
            "method": "animate"
           },
           {
            "args": [
             [
              "5.0"
             ],
             {
              "frame": {
               "duration": 0,
               "redraw": false
              },
              "fromcurrent": true,
              "mode": "immediate",
              "transition": {
               "duration": 0,
               "easing": "linear"
              }
             }
            ],
            "label": "5.0",
            "method": "animate"
           },
           {
            "args": [
             [
              "6.0"
             ],
             {
              "frame": {
               "duration": 0,
               "redraw": false
              },
              "fromcurrent": true,
              "mode": "immediate",
              "transition": {
               "duration": 0,
               "easing": "linear"
              }
             }
            ],
            "label": "6.0",
            "method": "animate"
           },
           {
            "args": [
             [
              "7.0"
             ],
             {
              "frame": {
               "duration": 0,
               "redraw": false
              },
              "fromcurrent": true,
              "mode": "immediate",
              "transition": {
               "duration": 0,
               "easing": "linear"
              }
             }
            ],
            "label": "7.0",
            "method": "animate"
           },
           {
            "args": [
             [
              "8.0"
             ],
             {
              "frame": {
               "duration": 0,
               "redraw": false
              },
              "fromcurrent": true,
              "mode": "immediate",
              "transition": {
               "duration": 0,
               "easing": "linear"
              }
             }
            ],
            "label": "8.0",
            "method": "animate"
           },
           {
            "args": [
             [
              "9.0"
             ],
             {
              "frame": {
               "duration": 0,
               "redraw": false
              },
              "fromcurrent": true,
              "mode": "immediate",
              "transition": {
               "duration": 0,
               "easing": "linear"
              }
             }
            ],
            "label": "9.0",
            "method": "animate"
           },
           {
            "args": [
             [
              "10.0"
             ],
             {
              "frame": {
               "duration": 0,
               "redraw": false
              },
              "fromcurrent": true,
              "mode": "immediate",
              "transition": {
               "duration": 0,
               "easing": "linear"
              }
             }
            ],
            "label": "10.0",
            "method": "animate"
           }
          ],
          "x": 0.1,
          "xanchor": "left",
          "y": 0,
          "yanchor": "top"
         }
        ],
        "template": {
         "data": {
          "pie": [
           {
            "automargin": true,
            "type": "pie"
           }
          ],
          "scatter": [
           {
            "line": {
             "width": 3
            },
            "marker": {
             "size": 9
            },
            "type": "scatter"
           }
          ],
          "scatter3d": [
           {
            "line": {
             "width": 3
            },
            "marker": {
             "size": 9
            },
            "type": "scatter3d"
           }
          ],
          "scattergeo": [
           {
            "line": {
             "width": 3
            },
            "marker": {
             "size": 9
            },
            "type": "scattergeo"
           }
          ],
          "scattergl": [
           {
            "line": {
             "width": 3
            },
            "marker": {
             "size": 9
            },
            "type": "scattergl"
           }
          ],
          "scatterpolar": [
           {
            "line": {
             "width": 3
            },
            "marker": {
             "size": 9
            },
            "type": "scatterpolar"
           }
          ],
          "scatterpolargl": [
           {
            "line": {
             "width": 3
            },
            "marker": {
             "size": 9
            },
            "type": "scatterpolargl"
           }
          ],
          "scatterternary": [
           {
            "line": {
             "width": 3
            },
            "marker": {
             "size": 9
            },
            "type": "scatterternary"
           }
          ],
          "table": [
           {
            "cells": {
             "height": 30
            },
            "header": {
             "height": 36
            },
            "type": "table"
           }
          ]
         },
         "layout": {
          "font": {
           "size": 18
          },
          "xaxis": {
           "title": {
            "standoff": 15
           }
          },
          "yaxis": {
           "title": {
            "standoff": 15
           }
          }
         }
        },
        "updatemenus": [
         {
          "buttons": [
           {
            "args": [
             null,
             {
              "frame": {
               "duration": 500,
               "redraw": false
              },
              "fromcurrent": true,
              "mode": "immediate",
              "transition": {
               "duration": 500,
               "easing": "linear"
              }
             }
            ],
            "label": "&#9654;",
            "method": "animate"
           },
           {
            "args": [
             [
              null
             ],
             {
              "frame": {
               "duration": 0,
               "redraw": false
              },
              "fromcurrent": true,
              "mode": "immediate",
              "transition": {
               "duration": 0,
               "easing": "linear"
              }
             }
            ],
            "label": "&#9724;",
            "method": "animate"
           }
          ],
          "direction": "left",
          "pad": {
           "r": 10,
           "t": 70
          },
          "showactive": false,
          "type": "buttons",
          "x": 0.1,
          "xanchor": "right",
          "y": 0,
          "yanchor": "top"
         }
        ],
        "xaxis": {
         "anchor": "y",
         "domain": [
          0,
          1
         ],
         "range": [
          0,
          1
         ],
         "title": {
          "text": "y_1"
         },
         "type": "linear"
        },
        "yaxis": {
         "anchor": "x",
         "domain": [
          0,
          1
         ],
         "range": [
          0,
          1
         ],
         "title": {
          "text": "y_2"
         },
         "type": "linear"
        }
       }
      },
      "image/png": "[encoded data removed]",
      "text/html": [
       "<div>                            <div id=\"04e8bda9-8e66-4f6f-8628-92b61bb3149c\" class=\"plotly-graph-div\" style=\"height:525px; width:100%;\"></div>            <script type=\"text/javascript\">                require([\"plotly\"], function(Plotly) {                    window.PLOTLYENV=window.PLOTLYENV || {};                                    if (document.getElementById(\"04e8bda9-8e66-4f6f-8628-92b61bb3149c\")) {                    Plotly.newPlot(                        \"04e8bda9-8e66-4f6f-8628-92b61bb3149c\",                        [{\"hovertemplate\":\"iteration=0.0<br>y_1=%{x}<br>y_2=%{y}<extra></extra>\",\"legendgroup\":\"\",\"marker\":{\"color\":\"#1F77B4\",\"symbol\":\"circle\"},\"mode\":\"markers\",\"name\":\"\",\"orientation\":\"v\",\"showlegend\":false,\"x\":[0.1312134261718642,0.29520819801550346,0.32914591023810374,0.4690253793483471,0.48880396545399873,0.5249479508461674,0.5922000992969606,0.6115276488322282,0.6879656340020822,0.7788755055697469],\"xaxis\":\"x\",\"y\":[0.5266513714316883,0.744145041892627,0.20426942522397878,0.4631489611481592,0.7051459744330618,0.2901503485245669,0.19148568642601327,0.7220057593102744,0.7450999745024673,0.4467827984574864],\"yaxis\":\"y\",\"type\":\"scatter\"}],                        {\"template\":{\"data\":{\"scatter\":[{\"line\":{\"width\":3},\"marker\":{\"size\":9},\"type\":\"scatter\"}],\"scattergl\":[{\"line\":{\"width\":3},\"marker\":{\"size\":9},\"type\":\"scattergl\"}],\"scatter3d\":[{\"line\":{\"width\":3},\"marker\":{\"size\":9},\"type\":\"scatter3d\"}],\"scatterpolar\":[{\"line\":{\"width\":3},\"marker\":{\"size\":9},\"type\":\"scatterpolar\"}],\"scatterpolargl\":[{\"line\":{\"width\":3},\"marker\":{\"size\":9},\"type\":\"scatterpolargl\"}],\"scatterternary\":[{\"line\":{\"width\":3},\"marker\":{\"size\":9},\"type\":\"scatterternary\"}],\"scattergeo\":[{\"line\":{\"width\":3},\"marker\":{\"size\":9},\"type\":\"scattergeo\"}],\"table\":[{\"cells\":{\"height\":30},\"header\":{\"height\":36},\"type\":\"table\"}],\"pie\":[{\"automargin\":true,\"type\":\"pie\"}]},\"layout\":{\"xaxis\":{\"title\":{\"standoff\":15}},\"yaxis\":{\"title\":{\"standoff\":15}},\"font\":{\"size\":18}}},\"xaxis\":{\"anchor\":\"y\",\"domain\":[0.0,1.0],\"title\":{\"text\":\"y_1\"},\"range\":[0,1]},\"yaxis\":{\"anchor\":\"x\",\"domain\":[0.0,1.0],\"title\":{\"text\":\"y_2\"},\"range\":[0,1]},\"legend\":{\"tracegroupgap\":0},\"margin\":{\"t\":60},\"updatemenus\":[{\"buttons\":[{\"args\":[null,{\"frame\":{\"duration\":500,\"redraw\":false},\"mode\":\"immediate\",\"fromcurrent\":true,\"transition\":{\"duration\":500,\"easing\":\"linear\"}}],\"label\":\"&#9654;\",\"method\":\"animate\"},{\"args\":[[null],{\"frame\":{\"duration\":0,\"redraw\":false},\"mode\":\"immediate\",\"fromcurrent\":true,\"transition\":{\"duration\":0,\"easing\":\"linear\"}}],\"label\":\"&#9724;\",\"method\":\"animate\"}],\"direction\":\"left\",\"pad\":{\"r\":10,\"t\":70},\"showactive\":false,\"type\":\"buttons\",\"x\":0.1,\"xanchor\":\"right\",\"y\":0,\"yanchor\":\"top\"}],\"sliders\":[{\"active\":0,\"currentvalue\":{\"prefix\":\"iteration=\"},\"len\":0.9,\"pad\":{\"b\":10,\"t\":60},\"steps\":[{\"args\":[[\"0.0\"],{\"frame\":{\"duration\":0,\"redraw\":false},\"mode\":\"immediate\",\"fromcurrent\":true,\"transition\":{\"duration\":0,\"easing\":\"linear\"}}],\"label\":\"0.0\",\"method\":\"animate\"},{\"args\":[[\"1.0\"],{\"frame\":{\"duration\":0,\"redraw\":false},\"mode\":\"immediate\",\"fromcurrent\":true,\"transition\":{\"duration\":0,\"easing\":\"linear\"}}],\"label\":\"1.0\",\"method\":\"animate\"},{\"args\":[[\"2.0\"],{\"frame\":{\"duration\":0,\"redraw\":false},\"mode\":\"immediate\",\"fromcurrent\":true,\"transition\":{\"duration\":0,\"easing\":\"linear\"}}],\"label\":\"2.0\",\"method\":\"animate\"},{\"args\":[[\"3.0\"],{\"frame\":{\"duration\":0,\"redraw\":false},\"mode\":\"immediate\",\"fromcurrent\":true,\"transition\":{\"duration\":0,\"easing\":\"linear\"}}],\"label\":\"3.0\",\"method\":\"animate\"},{\"args\":[[\"4.0\"],{\"frame\":{\"duration\":0,\"redraw\":false},\"mode\":\"immediate\",\"fromcurrent\":true,\"transition\":{\"duration\":0,\"easing\":\"linear\"}}],\"label\":\"4.0\",\"method\":\"animate\"},{\"args\":[[\"5.0\"],{\"frame\":{\"duration\":0,\"redraw\":false},\"mode\":\"immediate\",\"fromcurrent\":true,\"transition\":{\"duration\":0,\"easing\":\"linear\"}}],\"label\":\"5.0\",\"method\":\"animate\"},{\"args\":[[\"6.0\"],{\"frame\":{\"duration\":0,\"redraw\":false},\"mode\":\"immediate\",\"fromcurrent\":true,\"transition\":{\"duration\":0,\"easing\":\"linear\"}}],\"label\":\"6.0\",\"method\":\"animate\"},{\"args\":[[\"7.0\"],{\"frame\":{\"duration\":0,\"redraw\":false},\"mode\":\"immediate\",\"fromcurrent\":true,\"transition\":{\"duration\":0,\"easing\":\"linear\"}}],\"label\":\"7.0\",\"method\":\"animate\"},{\"args\":[[\"8.0\"],{\"frame\":{\"duration\":0,\"redraw\":false},\"mode\":\"immediate\",\"fromcurrent\":true,\"transition\":{\"duration\":0,\"easing\":\"linear\"}}],\"label\":\"8.0\",\"method\":\"animate\"},{\"args\":[[\"9.0\"],{\"frame\":{\"duration\":0,\"redraw\":false},\"mode\":\"immediate\",\"fromcurrent\":true,\"transition\":{\"duration\":0,\"easing\":\"linear\"}}],\"label\":\"9.0\",\"method\":\"animate\"},{\"args\":[[\"10.0\"],{\"frame\":{\"duration\":0,\"redraw\":false},\"mode\":\"immediate\",\"fromcurrent\":true,\"transition\":{\"duration\":0,\"easing\":\"linear\"}}],\"label\":\"10.0\",\"method\":\"animate\"}],\"x\":0.1,\"xanchor\":\"left\",\"y\":0,\"yanchor\":\"top\"}]},                        {\"responsive\": true}                    ).then(function(){\n",
       "                            Plotly.addFrames('04e8bda9-8e66-4f6f-8628-92b61bb3149c', [{\"data\":[{\"hovertemplate\":\"iteration=0.0<br>y_1=%{x}<br>y_2=%{y}<extra></extra>\",\"legendgroup\":\"\",\"marker\":{\"color\":\"#1F77B4\",\"symbol\":\"circle\"},\"mode\":\"markers\",\"name\":\"\",\"orientation\":\"v\",\"showlegend\":false,\"x\":[0.1312134261718642,0.29520819801550346,0.32914591023810374,0.4690253793483471,0.48880396545399873,0.5249479508461674,0.5922000992969606,0.6115276488322282,0.6879656340020822,0.7788755055697469],\"xaxis\":\"x\",\"y\":[0.5266513714316883,0.744145041892627,0.20426942522397878,0.4631489611481592,0.7051459744330618,0.2901503485245669,0.19148568642601327,0.7220057593102744,0.7450999745024673,0.4467827984574864],\"yaxis\":\"y\",\"type\":\"scatter\"}],\"name\":\"0.0\"},{\"data\":[{\"hovertemplate\":\"iteration=1.0<br>y_1=%{x}<br>y_2=%{y}<extra></extra>\",\"legendgroup\":\"\",\"marker\":{\"color\":\"#1F77B4\",\"symbol\":\"circle\"},\"mode\":\"markers\",\"name\":\"\",\"orientation\":\"v\",\"showlegend\":false,\"x\":[0.045909553945614905,0.0677033779009267,0.12672850087662574,0.22584902247450753,0.23194913224799563,0.2321828637466627,0.23317922194359825,0.23920012499794155,0.32914591023810374,0.5030716610469008],\"xaxis\":\"x\",\"y\":[0.4823308593387298,0.4806490328175959,0.5305870151448376,0.3761947286445789,0.3091016833892959,0.3080254766607906,0.30700254647358977,0.3013201830594461,0.20426942522397878,0.12790564279621136],\"yaxis\":\"y\",\"type\":\"scatter\"}],\"name\":\"1.0\"},{\"data\":[{\"hovertemplate\":\"iteration=2.0<br>y_1=%{x}<br>y_2=%{y}<extra></extra>\",\"legendgroup\":\"\",\"marker\":{\"color\":\"#1F77B4\",\"symbol\":\"circle\"},\"mode\":\"markers\",\"name\":\"\",\"orientation\":\"v\",\"showlegend\":false,\"x\":[0.045909553945614905,0.09907180262282367,0.13690593515612842,0.20246676702163638,0.2512704175353865,0.25153385502328407,0.3038364944654216,0.33877609247025614,0.4445413019150847,0.5032223069136672],\"xaxis\":\"x\",\"y\":[0.4823308593387298,0.45267577844183243,0.40371898286297087,0.33812740121000107,0.28891545028649634,0.28866058060052335,0.22445161731698293,0.19483392326489363,0.09605488486059421,0.048742367571856904],\"yaxis\":\"y\",\"type\":\"scatter\"}],\"name\":\"2.0\"},{\"data\":[{\"hovertemplate\":\"iteration=3.0<br>y_1=%{x}<br>y_2=%{y}<extra></extra>\",\"legendgroup\":\"\",\"marker\":{\"color\":\"#1F77B4\",\"symbol\":\"circle\"},\"mode\":\"markers\",\"name\":\"\",\"orientation\":\"v\",\"showlegend\":false,\"x\":[0.04360139557408842,0.07628320130305777,0.08864939738175268,0.1315059570937481,0.18999870090614981,0.22703376855026808,0.2921857117570298,0.34270389855550276,0.44029392142413226,0.50669523844558],\"xaxis\":\"x\",\"y\":[0.47827021810983417,0.4316324761814805,0.41939215317798756,0.3969920454769157,0.3165745230107314,0.2808496622672922,0.24169331207564604,0.19093852703566994,0.08820320507928969,0.03412159311192031],\"yaxis\":\"y\",\"type\":\"scatter\"}],\"name\":\"3.0\"},{\"data\":[{\"hovertemplate\":\"iteration=4.0<br>y_1=%{x}<br>y_2=%{y}<extra></extra>\",\"legendgroup\":\"\",\"marker\":{\"color\":\"#1F77B4\",\"symbol\":\"circle\"},\"mode\":\"markers\",\"name\":\"\",\"orientation\":\"v\",\"showlegend\":false,\"x\":[0.018020852291370168,0.08864939738175268,0.13370828377372998,0.18304021468473164,0.22703376855026808,0.27195606244706083,0.33985873579827863,0.34522267971547504,0.4388703965906995,0.4931335835450221],\"xaxis\":\"x\",\"y\":[0.5103150476917041,0.41939215317798756,0.37330414280044366,0.3199743061903246,0.2808496622672922,0.23365076132663365,0.16309900978425462,0.16062496103150659,0.06885997190230386,0.013491763229361076],\"yaxis\":\"y\",\"type\":\"scatter\"}],\"name\":\"4.0\"},{\"data\":[{\"hovertemplate\":\"iteration=5.0<br>y_1=%{x}<br>y_2=%{y}<extra></extra>\",\"legendgroup\":\"\",\"marker\":{\"color\":\"#1F77B4\",\"symbol\":\"circle\"},\"mode\":\"markers\",\"name\":\"\",\"orientation\":\"v\",\"showlegend\":false,\"x\":[0.00845898430382053,0.062334142327201074,0.11386193428158667,0.18284951105783395,0.22778121727566372,0.2957075790574198,0.33487644508447906,0.44772884737614926,0.503203978479123,0.5033489953704714],\"xaxis\":\"x\",\"y\":[0.49462535788379763,0.44468321817158724,0.39415195137389236,0.3176466402808812,0.28006227867825717,0.2099336209762897,0.16803138751114116,0.05390838054520897,0.0034440992749065757,0.003348995370471397],\"yaxis\":\"y\",\"type\":\"scatter\"}],\"name\":\"5.0\"},{\"data\":[{\"hovertemplate\":\"iteration=6.0<br>y_1=%{x}<br>y_2=%{y}<extra></extra>\",\"legendgroup\":\"\",\"marker\":{\"color\":\"#1F77B4\",\"symbol\":\"circle\"},\"mode\":\"markers\",\"name\":\"\",\"orientation\":\"v\",\"showlegend\":false,\"x\":[0.001284642623339172,0.062334142327201074,0.11386193428158667,0.16423437542984887,0.18165468105066207,0.22778121727566372,0.29036933512339164,0.33487644508447906,0.44772884737614926,0.5001678536058947],\"xaxis\":\"x\",\"y\":[0.5002046544761187,0.44468321817158724,0.39415195137389236,0.3392685790989095,0.3185343187857064,0.28006227867825717,0.216654339068238,0.16803138751114116,0.05390838054520897,0.00018742717621811344],\"yaxis\":\"y\",\"type\":\"scatter\"}],\"name\":\"6.0\"},{\"data\":[{\"hovertemplate\":\"iteration=7.0<br>y_1=%{x}<br>y_2=%{y}<extra></extra>\",\"legendgroup\":\"\",\"marker\":{\"color\":\"#1F77B4\",\"symbol\":\"circle\"},\"mode\":\"markers\",\"name\":\"\",\"orientation\":\"v\",\"showlegend\":false,\"x\":[0.0008198877250776493,0.057982885779107034,0.11386193428158667,0.11467431117867745,0.17205108676674194,0.22615323047604888,0.2860306577118691,0.3348898835934428,0.44772884737614926,0.5001678536058947],\"xaxis\":\"x\",\"y\":[0.5008198877250777,0.44215918206406,0.39415195137389236,0.3932660212799544,0.33500305144770826,0.2818600766393964,0.2141266066036408,0.16790710860230934,0.05390838054520897,0.00018742717621811344],\"yaxis\":\"y\",\"type\":\"scatter\"}],\"name\":\"7.0\"},{\"data\":[{\"hovertemplate\":\"iteration=8.0<br>y_1=%{x}<br>y_2=%{y}<extra></extra>\",\"legendgroup\":\"\",\"marker\":{\"color\":\"#1F77B4\",\"symbol\":\"circle\"},\"mode\":\"markers\",\"name\":\"\",\"orientation\":\"v\",\"showlegend\":false,\"x\":[0.0008198877250776493,0.05588550682546769,0.11386193428158667,0.1544777618931492,0.17205108676674194,0.22615323047604888,0.28465577252710084,0.3348898835934428,0.44772884737614926,0.5001416417760689],\"xaxis\":\"x\",\"y\":[0.5008198877250777,0.4456226312402116,0.39415195137389236,0.3525443933218658,0.33500305144770826,0.2818600766393964,0.21547506646339942,0.16790710860230934,0.05390838054520897,0.0001416417760689015],\"yaxis\":\"y\",\"type\":\"scatter\"}],\"name\":\"8.0\"},{\"data\":[{\"hovertemplate\":\"iteration=9.0<br>y_1=%{x}<br>y_2=%{y}<extra></extra>\",\"legendgroup\":\"\",\"marker\":{\"color\":\"#1F77B4\",\"symbol\":\"circle\"},\"mode\":\"markers\",\"name\":\"\",\"orientation\":\"v\",\"showlegend\":false,\"x\":[0.00044128243201208765,0.05588550682546769,0.11246056645715138,0.17205108676674194,0.22615323047604888,0.28465577252710084,0.3348898835934428,0.3914558506004846,0.44772884737614926,0.5001323949647828],\"xaxis\":\"x\",\"y\":[0.5004412824320121,0.4456226312402116,0.3875469793573646,0.33500305144770826,0.2818600766393964,0.21547506646339942,0.16790710860230934,0.11019476895216451,0.05390838054520897,0.00013239496478278934],\"yaxis\":\"y\",\"type\":\"scatter\"}],\"name\":\"9.0\"},{\"data\":[{\"hovertemplate\":\"iteration=10.0<br>y_1=%{x}<br>y_2=%{y}<extra></extra>\",\"legendgroup\":\"\",\"marker\":{\"color\":\"#1F77B4\",\"symbol\":\"circle\"},\"mode\":\"markers\",\"name\":\"\",\"orientation\":\"v\",\"showlegend\":false,\"x\":[0.0002733118663302568,0.05588550682546769,0.11246056645715138,0.171349166416067,0.22615323047604888,0.28465577252710084,0.3348898835934428,0.3914558506004846,0.44772884737614926,0.5001323949647828],\"xaxis\":\"x\",\"y\":[0.5002733118663303,0.4456226312402116,0.3875469793573646,0.3292026713925804,0.2818600766393964,0.21547506646339942,0.16790710860230934,0.11019476895216451,0.05390838054520897,0.00013239496478278934],\"yaxis\":\"y\",\"type\":\"scatter\"}],\"name\":\"10.0\"}]);\n",
       "                        }).then(function(){\n",
       "                            \n",
       "var gd = document.getElementById('04e8bda9-8e66-4f6f-8628-92b61bb3149c');\n",
       "var x = new MutationObserver(function (mutations, observer) {{\n",
       "        var display = window.getComputedStyle(gd).display;\n",
       "        if (!display || display === 'none') {{\n",
       "            console.log([gd, 'removed!']);\n",
       "            Plotly.purge(gd);\n",
       "            observer.disconnect();\n",
       "        }}\n",
       "}});\n",
       "\n",
       "// Listen for the removal of the full notebook cells\n",
       "var notebookContainer = gd.closest('#notebook-container');\n",
       "if (notebookContainer) {{\n",
       "    x.observe(notebookContainer, {childList: true});\n",
       "}}\n",
       "\n",
       "// Listen for the clearing of the current output cell\n",
       "var outputEl = gd.closest('.output');\n",
       "if (outputEl) {{\n",
       "    x.observe(outputEl, {childList: true});\n",
       "}}\n",
       "\n",
       "                        })                };                });            </script>        </div>"
      ]
     },
     "metadata": {},
     "output_type": "display_data"
    }
   ],
   "source": [
    "import plotly.express as ex\n",
    "import plotly.io as pio\n",
    "\n",
    "pio.templates.default=\"presentation\"\n",
    "\n",
    "ex.scatter(\n",
    "    solutions,\n",
    "    x=\"y_1\",\n",
    "    y=\"y_2\",\n",
    "    animation_frame=\"iteration\",\n",
    "    range_x=[0, 1],\n",
    "    range_y=[0,1]\n",
    ")"
   ]
  },
  {
   "cell_type": "code",
   "execution_count": null,
   "id": "1c07afea-d0c3-49e6-92a6-90251897f059",
   "metadata": {},
   "outputs": [],
   "source": []
  }
 ],
 "metadata": {
  "celltoolbar": "Slideshow",
  "kernelspec": {
   "display_name": "desdeo-emo",
   "language": "python",
   "name": "desdeo-emo"
  },
  "language_info": {
   "codemirror_mode": {
    "name": "ipython",
    "version": 3
   },
   "file_extension": ".py",
   "mimetype": "text/x-python",
   "name": "python",
   "nbconvert_exporter": "python",
   "pygments_lexer": "ipython3",
   "version": "3.9.10"
  }
 },
 "nbformat": 4,
 "nbformat_minor": 5
}
