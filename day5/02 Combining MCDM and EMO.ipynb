{
 "cells": [
  {
   "cell_type": "markdown",
   "id": "cd8215b6-57ba-4520-a3af-04dfbed811b2",
   "metadata": {},
   "source": [
    "# Showcasing IOPIS algorithm"
   ]
  },
  {
   "cell_type": "code",
   "execution_count": 1,
   "id": "ad043770-489d-4d66-b524-37d630d1e129",
   "metadata": {},
   "outputs": [],
   "source": [
    "# You can try disabling this cell to see the warnings that we are supressing\n",
    "import warnings\n",
    "warnings.filterwarnings('ignore')"
   ]
  },
  {
   "cell_type": "code",
   "execution_count": 2,
   "id": "e5101859-35d6-45fa-b7f0-7f2bcc508756",
   "metadata": {},
   "outputs": [],
   "source": [
    "import numpy as np\n",
    "import pandas as pd\n",
    "\n",
    "import plotly.graph_objects as go\n",
    "import plotly.io as pio\n",
    "pio.templates.default = \"presentation\"\n",
    "\n",
    "from desdeo_problem import variable_builder, VectorObjective\n",
    "\n",
    "from desdeo_emo.problem import IOPISProblem\n",
    "from desdeo_emo.EAs import NSGAIII"
   ]
  },
  {
   "cell_type": "code",
   "execution_count": 3,
   "id": "1a9c4dd6-ee76-4e7b-a62d-387554266e67",
   "metadata": {},
   "outputs": [],
   "source": [
    "variables = variable_builder(\n",
    "    names = [\"x_1\", \"x_2\"],\n",
    "    initial_values = [0.5,0.5],\n",
    "    lower_bounds = [0, 0],\n",
    "    upper_bounds = [1, 1]\n",
    ")\n",
    "\n",
    "def y(x):\n",
    "    y1 = (x[:, 0] + x[:, 1]) / 2\n",
    "    y2 = (x[:, 0] - x[:, 1] + 1) / 2\n",
    "    return np.array((y1,y2)).T\n",
    "\n",
    "objectives = VectorObjective(\n",
    "    name=[\"y_1\", \"y_2\"],\n",
    "    evaluator=y\n",
    ")"
   ]
  },
  {
   "cell_type": "code",
   "execution_count": 4,
   "id": "e8cfcc46-7fbe-4dfb-9987-ca081f0177c4",
   "metadata": {},
   "outputs": [],
   "source": [
    "nadir = np.array([0.5,0.5])\n",
    "ideal = np.array([0,0])\n",
    "\n",
    "first_preference = {\"reference point\": np.array([[0.2, 0.3]])}\n",
    "\n",
    "iopisProblem = IOPISProblem(\n",
    "    objectives=[objectives], \n",
    "    variables=variables,\n",
    "    nadir=nadir, # This can be approximate\n",
    "    ideal=ideal,  # This can be approximate\n",
    "    PIS_type=\"IOPIS\",\n",
    "    initial_preference=first_preference\n",
    ")"
   ]
  },
  {
   "cell_type": "code",
   "execution_count": 5,
   "id": "52522ee7-a97e-4309-b301-9bdc6d316d4a",
   "metadata": {},
   "outputs": [
    {
     "name": "stdout",
     "output_type": "stream",
     "text": [
      "Evaluation Results Object \n",
      "Objective values are: \n",
      "[[0.25 0.55]]\n",
      "Constraint violation values are: \n",
      "None\n",
      "Fitness values are: \n",
      "[[1.83333333 1.25      ]]\n",
      "Uncertainity values are: \n",
      "[[nan nan]]\n",
      "\n"
     ]
    }
   ],
   "source": [
    "# Note, the fitness values are different now!\n",
    "print(iopisProblem.evaluate(np.array([[0.3,0.2]])))"
   ]
  },
  {
   "cell_type": "code",
   "execution_count": 6,
   "id": "753a0ea1-5eb0-4c47-a7ff-15f0379c9e50",
   "metadata": {},
   "outputs": [],
   "source": [
    "evolver = NSGAIII(\n",
    "    iopisProblem,\n",
    "    population_size=40,\n",
    "    n_gen_per_iter=10,\n",
    "    interact=True\n",
    ")\n",
    "\n",
    "pref, plot = evolver.start()"
   ]
  },
  {
   "cell_type": "code",
   "execution_count": 15,
   "id": "39851523-9871-4aab-875c-b954f9a8a7fc",
   "metadata": {
    "tags": []
   },
   "outputs": [],
   "source": [
    "# may need to run this a few times to reach the desired area\n",
    "preference = {\"reference point\": np.array([[0.2, 0.4]])}\n",
    "\n",
    "pref, plot = evolver.iterate(preference)"
   ]
  },
  {
   "cell_type": "code",
   "execution_count": 16,
   "id": "76d3ce66-16b9-4add-91fd-898ddfd89f2a",
   "metadata": {
    "tags": []
   },
   "outputs": [
    {
     "name": "stderr",
     "output_type": "stream",
     "text": [
      "E:\\Projects\\.virtualenvs\\JSS31COM1\\lib\\site-packages\\plotly\\graph_objs\\_deprecations.py:378: DeprecationWarning:\n",
      "\n",
      "plotly.graph_objs.Line is deprecated.\n",
      "Please replace it with one of the following more specific types\n",
      "  - plotly.graph_objs.scatter.Line\n",
      "  - plotly.graph_objs.layout.shape.Line\n",
      "  - etc.\n",
      "\n",
      "\n"
     ]
    },
    {
     "data": {
      "application/vnd.plotly.v1+json": {
       "config": {
        "plotlyServerURL": "https://plot.ly"
       },
       "data": [
        {
         "mode": "markers",
         "name": "IOPIS Solutions",
         "type": "scatter",
         "x": [
          0.1246878070905694,
          0.1530652974687495,
          0.13901891183443166,
          0.12668250230231412,
          0.12998072570457,
          0.16126700940690236,
          0.13022208523788364,
          0.16354507711936148,
          0.1552423384956411,
          0.14368427304281162,
          0.15135679407540706,
          0.14429771578126496,
          0.15716600395182936,
          0.12870715453834916,
          0.1402217494129187,
          0.15135752094656882,
          0.1597155496816436,
          0.15767029935299787,
          0.14536133138454194,
          0.1619540602657089,
          0.1512607227647556,
          0.16055762370153626,
          0.14033559690487435,
          0.137550165896547,
          0.13936213066141548,
          0.1551869714050702,
          0.1306507543070091,
          0.1622660805155235,
          0.14992251719408412,
          0.16225797732846198,
          0.14035466843655295,
          0.12904996091745538,
          0.12781532010447055,
          0.13261912999926725,
          0.16111747740329635,
          0.16095115067598748,
          0.13058799600901436,
          0.15164055256822023,
          0.1283734666107253,
          0.13285511431456787
         ],
         "y": [
          0.37531219290943063,
          0.34693470253125047,
          0.3609844242052625,
          0.37331749769768585,
          0.37001999055499224,
          0.33873299059309764,
          0.3697877277638157,
          0.3364582030055978,
          0.34475766150435894,
          0.3563157269571884,
          0.348696735907739,
          0.35598477222502234,
          0.3428346921420664,
          0.37157510191590315,
          0.3597782505870813,
          0.3486837885242541,
          0.34033612224039267,
          0.3423329497144761,
          0.35463866861545806,
          0.338185096739979,
          0.3487889969135421,
          0.33948746087671855,
          0.35966440309512565,
          0.3624530533110532,
          0.360640471927669,
          0.34481321364857515,
          0.36935060928569163,
          0.33773392567080024,
          0.35008077615705463,
          0.3379794730795856,
          0.359645331563447,
          0.37123178065964835,
          0.37218486298126324,
          0.3673808700007327,
          0.3389325978971244,
          0.3390488493240125,
          0.3696959889672725,
          0.3485376809578787,
          0.3716842274309528,
          0.36714807395129867
         ]
        },
        {
         "name": "Reference point",
         "type": "scatter",
         "x": [
          0.2
         ],
         "y": [
          0.4
         ]
        },
        {
         "name": "GUESS",
         "type": "scatter",
         "x": [
          0.5,
          0
         ],
         "y": [
          0.5,
          0.33333333333333337
         ]
        },
        {
         "name": "STOM",
         "type": "scatter",
         "x": [
          0,
          0.25
         ],
         "y": [
          0,
          0.5
         ]
        },
        {
         "name": "Pareto front",
         "type": "scatter",
         "x": [
          0,
          0.5
         ],
         "y": [
          0.5,
          0
         ]
        }
       ],
       "layout": {
        "autosize": true,
        "template": {
         "data": {
          "pie": [
           {
            "automargin": true,
            "type": "pie"
           }
          ],
          "scatter": [
           {
            "line": {
             "width": 3
            },
            "marker": {
             "size": 9
            },
            "type": "scatter"
           }
          ],
          "scatter3d": [
           {
            "line": {
             "width": 3
            },
            "marker": {
             "size": 9
            },
            "type": "scatter3d"
           }
          ],
          "scattergeo": [
           {
            "line": {
             "width": 3
            },
            "marker": {
             "size": 9
            },
            "type": "scattergeo"
           }
          ],
          "scattergl": [
           {
            "line": {
             "width": 3
            },
            "marker": {
             "size": 9
            },
            "type": "scattergl"
           }
          ],
          "scatterpolar": [
           {
            "line": {
             "width": 3
            },
            "marker": {
             "size": 9
            },
            "type": "scatterpolar"
           }
          ],
          "scatterpolargl": [
           {
            "line": {
             "width": 3
            },
            "marker": {
             "size": 9
            },
            "type": "scatterpolargl"
           }
          ],
          "scatterternary": [
           {
            "line": {
             "width": 3
            },
            "marker": {
             "size": 9
            },
            "type": "scatterternary"
           }
          ],
          "table": [
           {
            "cells": {
             "height": 30
            },
            "header": {
             "height": 36
            },
            "type": "table"
           }
          ]
         },
         "layout": {
          "font": {
           "size": 18
          },
          "xaxis": {
           "title": {
            "standoff": 15
           }
          },
          "yaxis": {
           "title": {
            "standoff": 15
           }
          }
         }
        },
        "xaxis": {
         "autorange": true,
         "range": [
          -0.03182701652089407,
          0.531827016520894
         ],
         "type": "linear"
        },
        "yaxis": {
         "autorange": true,
         "range": [
          -0.048507462686567165,
          0.5485074626865671
         ],
         "type": "linear"
        }
       }
      },
      "image/png": "[encoded data removed]",
      "text/html": [
       "<div>                            <div id=\"29f0b9dc-ccd2-4a6f-9025-db2aded98f24\" class=\"plotly-graph-div\" style=\"height:525px; width:100%;\"></div>            <script type=\"text/javascript\">                require([\"plotly\"], function(Plotly) {                    window.PLOTLYENV=window.PLOTLYENV || {};                                    if (document.getElementById(\"29f0b9dc-ccd2-4a6f-9025-db2aded98f24\")) {                    Plotly.newPlot(                        \"29f0b9dc-ccd2-4a6f-9025-db2aded98f24\",                        [{\"mode\":\"markers\",\"name\":\"IOPIS Solutions\",\"x\":[0.1246878070905694,0.1530652974687495,0.13901891183443166,0.12668250230231412,0.12998072570457,0.16126700940690236,0.13022208523788364,0.16354507711936148,0.1552423384956411,0.14368427304281162,0.15135679407540706,0.14429771578126496,0.15716600395182936,0.12870715453834916,0.1402217494129187,0.15135752094656882,0.1597155496816436,0.15767029935299787,0.14536133138454194,0.1619540602657089,0.1512607227647556,0.16055762370153626,0.14033559690487435,0.137550165896547,0.13936213066141548,0.1551869714050702,0.1306507543070091,0.1622660805155235,0.14992251719408412,0.16225797732846198,0.14035466843655295,0.12904996091745538,0.12781532010447055,0.13261912999926725,0.16111747740329635,0.16095115067598748,0.13058799600901436,0.15164055256822023,0.1283734666107253,0.13285511431456787],\"y\":[0.37531219290943063,0.34693470253125047,0.3609844242052625,0.37331749769768585,0.37001999055499224,0.33873299059309764,0.3697877277638157,0.3364582030055978,0.34475766150435894,0.3563157269571884,0.348696735907739,0.35598477222502234,0.3428346921420664,0.37157510191590315,0.3597782505870813,0.3486837885242541,0.34033612224039267,0.3423329497144761,0.35463866861545806,0.338185096739979,0.3487889969135421,0.33948746087671855,0.35966440309512565,0.3624530533110532,0.360640471927669,0.34481321364857515,0.36935060928569163,0.33773392567080024,0.35008077615705463,0.3379794730795856,0.359645331563447,0.37123178065964835,0.37218486298126324,0.3673808700007327,0.3389325978971244,0.3390488493240125,0.3696959889672725,0.3485376809578787,0.3716842274309528,0.36714807395129867],\"type\":\"scatter\"},{\"name\":\"Reference point\",\"x\":[0.2],\"y\":[0.4],\"type\":\"scatter\"},{\"name\":\"GUESS\",\"x\":[0.5,0.0],\"y\":[0.5,0.33333333333333337],\"type\":\"scatter\"},{\"name\":\"STOM\",\"x\":[0,0.25],\"y\":[0,0.5],\"type\":\"scatter\"},{\"name\":\"Pareto front\",\"x\":[0,0.5],\"y\":[0.5,0],\"type\":\"scatter\"}],                        {\"template\":{\"data\":{\"scatter\":[{\"line\":{\"width\":3},\"marker\":{\"size\":9},\"type\":\"scatter\"}],\"scattergl\":[{\"line\":{\"width\":3},\"marker\":{\"size\":9},\"type\":\"scattergl\"}],\"scatter3d\":[{\"line\":{\"width\":3},\"marker\":{\"size\":9},\"type\":\"scatter3d\"}],\"scatterpolar\":[{\"line\":{\"width\":3},\"marker\":{\"size\":9},\"type\":\"scatterpolar\"}],\"scatterpolargl\":[{\"line\":{\"width\":3},\"marker\":{\"size\":9},\"type\":\"scatterpolargl\"}],\"scatterternary\":[{\"line\":{\"width\":3},\"marker\":{\"size\":9},\"type\":\"scatterternary\"}],\"scattergeo\":[{\"line\":{\"width\":3},\"marker\":{\"size\":9},\"type\":\"scattergeo\"}],\"table\":[{\"cells\":{\"height\":30},\"header\":{\"height\":36},\"type\":\"table\"}],\"pie\":[{\"automargin\":true,\"type\":\"pie\"}]},\"layout\":{\"xaxis\":{\"title\":{\"standoff\":15}},\"yaxis\":{\"title\":{\"standoff\":15}},\"font\":{\"size\":18}}}},                        {\"responsive\": true}                    ).then(function(){\n",
       "                            \n",
       "var gd = document.getElementById('29f0b9dc-ccd2-4a6f-9025-db2aded98f24');\n",
       "var x = new MutationObserver(function (mutations, observer) {{\n",
       "        var display = window.getComputedStyle(gd).display;\n",
       "        if (!display || display === 'none') {{\n",
       "            console.log([gd, 'removed!']);\n",
       "            Plotly.purge(gd);\n",
       "            observer.disconnect();\n",
       "        }}\n",
       "}});\n",
       "\n",
       "// Listen for the removal of the full notebook cells\n",
       "var notebookContainer = gd.closest('#notebook-container');\n",
       "if (notebookContainer) {{\n",
       "    x.observe(notebookContainer, {childList: true});\n",
       "}}\n",
       "\n",
       "// Listen for the clearing of the current output cell\n",
       "var outputEl = gd.closest('.output');\n",
       "if (outputEl) {{\n",
       "    x.observe(outputEl, {childList: true});\n",
       "}}\n",
       "\n",
       "                        })                };                });            </script>        </div>"
      ]
     },
     "metadata": {},
     "output_type": "display_data"
    }
   ],
   "source": [
    "iopis_solutions = go.Scatter(\n",
    "    x=evolver.population.objectives[:, 0],\n",
    "    y=evolver.population.objectives[:, 1],\n",
    "    name=\"IOPIS Solutions\",\n",
    "    mode=\"markers\"\n",
    ")\n",
    "\n",
    "refp = go.Scatter(\n",
    "    x=preference[\"reference point\"][:,0],\n",
    "    y=preference[\"reference point\"][:,1],\n",
    "    name=\"Reference point\"\n",
    ")\n",
    "\n",
    "# Some maths magic to draw a line connecting the ideal point and the reference point\n",
    "# Represents the STOM scalarization function\n",
    "temp = max((nadir- preference[\"reference point\"][0])/(ideal-preference[\"reference point\"][0]))\n",
    "end = preference[\"reference point\"][0] + temp * (ideal - preference[\"reference point\"][0])\n",
    "stom = go.Line(\n",
    "    x=[ideal[0], end[0]],\n",
    "    y=[ideal[1], end[1]],\n",
    "    name=\"STOM\",\n",
    ")\n",
    "\n",
    "# Some maths magic to draw a line connecting the nadir point and the reference point\n",
    "# Represents the GUESS scalarization function\n",
    "temp = max((ideal- preference[\"reference point\"][0])/(nadir-preference[\"reference point\"][0]))\n",
    "end = preference[\"reference point\"][0] + temp * (nadir - preference[\"reference point\"][0])\n",
    "guess = go.Line(\n",
    "    x=[nadir[0], end[0]],\n",
    "    y=[nadir[1], end[1]],\n",
    "    name=\"GUESS\",\n",
    ")\n",
    "\n",
    "pareto = go.Line(\n",
    "    x=[0, 0.5],\n",
    "    y=[0.5, 0],\n",
    "    name=\"Pareto front\",\n",
    ")\n",
    "go.Figure([iopis_solutions, refp, guess, stom, pareto])"
   ]
  },
  {
   "cell_type": "code",
   "execution_count": null,
   "id": "aa61d9d8-2f9c-4a0d-94f0-e1690956ecc2",
   "metadata": {},
   "outputs": [],
   "source": []
  }
 ],
 "metadata": {
  "kernelspec": {
   "display_name": "jss31com1",
   "language": "python",
   "name": "jss31com1"
  },
  "language_info": {
   "codemirror_mode": {
    "name": "ipython",
    "version": 3
   },
   "file_extension": ".py",
   "mimetype": "text/x-python",
   "name": "python",
   "nbconvert_exporter": "python",
   "pygments_lexer": "ipython3",
   "version": "3.9.10"
  }
 },
 "nbformat": 4,
 "nbformat_minor": 5
}
